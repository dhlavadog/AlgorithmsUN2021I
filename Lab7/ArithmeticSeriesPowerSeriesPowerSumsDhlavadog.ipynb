{
  "nbformat": 4,
  "nbformat_minor": 0,
  "metadata": {
    "colab": {
      "name": "ArithmeticSeriesPowerSeriesPowerSumsDhlavadog.ipynb",
      "provenance": [],
      "collapsed_sections": []
    },
    "kernelspec": {
      "name": "python3",
      "display_name": "Python 3"
    },
    "language_info": {
      "name": "python"
    }
  },
  "cells": [
    {
      "cell_type": "markdown",
      "metadata": {
        "id": "8c43VwHSxtGP"
      },
      "source": [
        " # **Series Aritméticas**\n",
        "\n",
        "Las series aritmeticas son la suma de una secuencia $ \\{a_k\\},k=1,2...$ en que cada termino es calculado con el anterior, agregando (ó restando) una constante $d$. Por lo tanto, para $k>1$.\n",
        "\n",
        "$$a_k= a_{k-1}+d(k-1)$$\n",
        "\n",
        "La suma de la secuencia dada por los primeros $n$ terminos es dada por:\n",
        "\n",
        "$$S_n=\\sum_{k=1}^n a_k$$ \n",
        "$$\\sum_{k=1^n}[a_1+(k-1)\\hspace{1mm}d]$$\n",
        "$$=n a_1+d \\sum_{k=1}^n (k-1)$$\n",
        "$$=n a_1+d \\sum_{k=2}^n (k-1)$$\n",
        "$$=na_1+d \\sum_{k=1}^n k$$\n",
        "\n",
        "Usando la identidad:\n",
        "\n",
        "$$\\sum_{k=1}^n k=\\frac{1}{2}n(n+1)$$\n",
        "\n",
        "Esto da:\n",
        "\n",
        "$$a_1+a_n=a_1+[a_1+d(n-1)]=2a_1+d(n-1),$$\n",
        "\n",
        "Entonces:\n",
        "\n",
        "$$S_n= \\frac{1}{2}n(a_1+a_n),$$\n",
        "\n",
        "Ó $n$ veces la *media aritmetica* de los primeros y ultimos terminos. Este es el truco que Gauss usó cuando estaba en la escuela para resolver un problema de suma de enteros de 1 hasta 100 dado por su ocupado profesor. Mientras sus compañeros se afanaban por resolver la suma, Gauss escribió un solo numero, la respuesta correcta:\n",
        "\n",
        "$$\\frac{1}{2}(100)(1+100)=50\\cdot 101=5050$$\n",
        "\n",
        "En su pizarra. Cuando la respuesta fue examinada, Gauss demostró tener la única correcta."
      ]
    },
    {
      "cell_type": "code",
      "metadata": {
        "id": "IUJaT0Xjw-GU"
      },
      "source": [
        "def serieAritmetica(primero,n): #Sumatoria para los primeros n elementos de una serie\n",
        "  respuesta= int(1/2*n*(primero+n))\n",
        "  return respuesta\n"
      ],
      "execution_count": null,
      "outputs": []
    },
    {
      "cell_type": "code",
      "metadata": {
        "colab": {
          "base_uri": "https://localhost:8080/"
        },
        "id": "A4DljPsE5V-l",
        "outputId": "c4ca7ef6-97dd-4c00-b0fc-602dd88eb50d"
      },
      "source": [
        "serieAritmetica(1,100)"
      ],
      "execution_count": null,
      "outputs": [
        {
          "output_type": "execute_result",
          "data": {
            "text/plain": [
              "5050"
            ]
          },
          "metadata": {
            "tags": []
          },
          "execution_count": 5
        }
      ]
    },
    {
      "cell_type": "markdown",
      "metadata": {
        "id": "qAGtIy0B5YO0"
      },
      "source": [
        "> **Ejemplo 1**\n",
        "\n",
        "Sumatoria de los elementos:\n",
        "\n",
        "$$2+5+8+11+14$$\n",
        "\n",
        "Tomamos la cantidad de numero a sumar (5 elementos), multiplicamos esta cantidad por la suma del primero y último elemento ( 2+14=16) y lo dividimos entre 2.\n",
        "\n",
        "$$\\frac{5(2+14)}{2}=\\frac{5\\cdot 16}{2}=40$$"
      ]
    },
    {
      "cell_type": "code",
      "metadata": {
        "id": "vdLKabel7115"
      },
      "source": [
        "def serieAritmetica2(serie): \n",
        "\n",
        "  tamaño= len(serie)\n",
        "  primero=serie[0]\n",
        "  ultimo= serie[tamaño-1]\n",
        "\n",
        "  respuesta2= int(1/2*tamaño*(primero+ultimo))\n",
        "\n",
        "  return respuesta2\n"
      ],
      "execution_count": null,
      "outputs": []
    },
    {
      "cell_type": "code",
      "metadata": {
        "colab": {
          "base_uri": "https://localhost:8080/"
        },
        "id": "5niMpVKm7Dib",
        "outputId": "7ba287bb-47a4-4f91-a6a7-ea982f14db41"
      },
      "source": [
        "serie=[2,5,8,11,14]\n",
        "\n",
        "serieAritmetica2(serie)"
      ],
      "execution_count": null,
      "outputs": [
        {
          "output_type": "execute_result",
          "data": {
            "text/plain": [
              "40"
            ]
          },
          "metadata": {
            "tags": []
          },
          "execution_count": 24
        }
      ]
    },
    {
      "cell_type": "markdown",
      "metadata": {
        "id": "enD4_s-k9UiP"
      },
      "source": [
        "> **Ejemplo 2**\n",
        "\n",
        "Sumar:\n",
        "\n",
        "$$8+12+16+20+24+28+32+36+40+44$$\n",
        "\n",
        "Resolución:\n",
        "\n",
        "Numero de elementos: 10\n",
        "\n",
        "primer elemento: 8\n",
        "\n",
        "Último elemento: 30\n",
        "\n",
        "$$\\frac{10(8+44)}{2}=\\frac{10 \\cdot 52}{2}= 260 $$"
      ]
    },
    {
      "cell_type": "code",
      "metadata": {
        "colab": {
          "base_uri": "https://localhost:8080/"
        },
        "id": "9dkQ7APt-ip0",
        "outputId": "c993c158-e513-428b-cf6b-3312766c7d03"
      },
      "source": [
        "serie2=[8,12,16,20,24,28,32,36,40,44]\n",
        "\n",
        "serieAritmetica2(serie2)"
      ],
      "execution_count": null,
      "outputs": [
        {
          "output_type": "execute_result",
          "data": {
            "text/plain": [
              "260"
            ]
          },
          "metadata": {
            "tags": []
          },
          "execution_count": 28
        }
      ]
    },
    {
      "cell_type": "markdown",
      "metadata": {
        "id": "Zg6p5cIICE6C"
      },
      "source": [
        "# **Series Geométricas**\n",
        "\n",
        "Una serie geometrica $\\sum_k a_k$ es una serie en que el radio de cada dos terminos consecutivos $\\frac{a_{k+1}}{a_k}$ es una función constante con la suma de indice $k$. El caso más general del radio de una función racional de suma con indice $k$ produce una serie llamada *Serie Hipergeométrica*.\n",
        "\n",
        "Para el caso más simple de radio $\\frac{a_{k+1}}{a_k}=r$ igual a una constante $r$, los terminos $a_k$ son de la forma $a_k=a_0 \\hspace{1mm} r^k$. Siendo $a_0=1$, la *secuencia geométrica* $\\{ a_k \\}^n_{k=0}$ con constante $|r|< 1$ es dada por:\n",
        "\n",
        "\n",
        "$$S_n=\\sum_{k=0}^n a_k= \\sum_{k=0}^n r^k \\hspace{5cm} (1)$$\n",
        "\n",
        "Es dada por:\n",
        "\n",
        "$$S_n \\equiv \\sum_{k=0}^n r^k = 1+r+r^2+...+r^n \\hspace{2.3cm}(2)$$\n",
        "\n",
        "Multiplicando ambos lados por $r$, esto da:\n",
        "\n",
        "$$r \\hspace{1mm}S_n=r+r^2+r^3+...+r^{n+1} \\hspace{3.3cm} (3)$$\n",
        "\n",
        "Y restando a (3) de (2), esto da:\n",
        "\n",
        "$$(1-r) \\hspace{1mm}S_n=(1+r+r^2+...+r^n)-(r+r^2+r^3+...+r^{n+1}) \\hspace{5mm} (4)$$\n",
        "\n",
        "$$=1-r^{n+1} \\hspace{11.5cm} (5)$$\n",
        "\n",
        "Entonces:\n",
        "\n",
        "\n",
        "$$S_n \\equiv \\sum_{k=0}^n r^k=\\frac{1-r^{n+1}}{1-r} \\hspace{3cm} (6)$$\n",
        "\n",
        "Para $-1 < r < 1$, la suma converge a $n \\rightarrow \\infty$, en este caso: \n",
        "\n",
        "$$S \\equiv S_\\infty=\\sum_{k=0}^\\infty r^k=\\frac{1}{1-r} \\hspace{2.5cm} (7)$$\n",
        "\n",
        "Similarmente, si la suma se toma desde $k=1$ en lugar de $k=0$,\n",
        "\n",
        "$$\\sum_{k=1}^n r^k=\\frac{r(1-r^n)}{1-r} \\hspace{4cm} (8)$$\n",
        "\n",
        "$$\\sum_{k=1}^\\infty r^k=\\frac{r}{1-r} \\hspace{4.9cm} (9)$$\n",
        "\n",
        "> Si $|r|= 1$, la serie diverge. Cuando $r=1$, todos los terminos de la serie son los mismos y la serie es infinita. Cuando $r=-1$ los terminos toman dos valores alternandose (por ejemplo,$2,-2,2,-2,2,...$).\n",
        "\n",
        "> Si $|r|> 1$ los terminos de las series se vuelven cada vez más y más grandes \n",
        "\n",
        "\n",
        "Todo lo anterior aplica para valores de $a=1$ pero si no es así, la formula quedaria de la siguiente forma:\n",
        "\n",
        "> Para $r \\neq 1$ la suma de los primeros $n+1$ terminos de una serie geometrica, incluyendo el $r^n$ es:  \n",
        "\n",
        "$$a+ar+ar^2+ar^3+...+ar^n= \\sum_{k=0}^n ar^k=a \\hspace{1mm}(\\frac{1-r^{n+1}}{1-r}),$$\n",
        "\n",
        "Donde $r$ es el radio común. \n",
        "\n",
        "\n",
        "\n",
        "\n",
        "\n",
        "\n",
        "\n",
        "\n",
        "\n",
        "\n"
      ]
    },
    {
      "cell_type": "code",
      "metadata": {
        "id": "iDrD2jaHYq7y"
      },
      "source": [
        "def serieGeometrica(n,a, r):\n",
        "\n",
        "  arreglo=[]\n",
        "\n",
        "  for n in range(n):\n",
        "    arreglo = arreglo + [a*r**n]\n",
        "  \n",
        "  print(\"Serie geometrica:\",arreglo)\n",
        "\n",
        "  if r == 1 or r == -1:\n",
        "    print(\"La serie diverge\")\n",
        "    return None\n",
        "  elif r < 1 and r > -1:\n",
        "    sumatoria = a/(1-r)\n",
        "  else:\n",
        "    sumatoria= a*(1-r**(n+1))/(1-r)\n",
        "  \n",
        "  print(\"\\nSumatoria de los\",n+1,\"primeros terminos de la serie:\",sumatoria)"
      ],
      "execution_count": null,
      "outputs": []
    },
    {
      "cell_type": "markdown",
      "metadata": {
        "id": "Vwyd7KZCYcsL"
      },
      "source": [
        "> **Ejemplo 1**\n",
        "\n",
        "\n",
        "$k=10 \\hspace{10mm} a=4 \\hspace{10mm} r=10;$"
      ]
    },
    {
      "cell_type": "code",
      "metadata": {
        "id": "e1DEYWasqjtm",
        "colab": {
          "base_uri": "https://localhost:8080/"
        },
        "outputId": "645e9852-54da-43b5-9058-4d72dbe5ab73"
      },
      "source": [
        "serieGeometrica(10,4,10)"
      ],
      "execution_count": null,
      "outputs": [
        {
          "output_type": "stream",
          "text": [
            "Serie geometrica: [4, 40, 400, 4000, 40000, 400000, 4000000, 40000000, 400000000, 4000000000]\n",
            "\n",
            "Sumatoria de los 10 primeros terminos de la serie: 4444444444.0\n"
          ],
          "name": "stdout"
        }
      ]
    },
    {
      "cell_type": "markdown",
      "metadata": {
        "id": "trgPMIHJzmZl"
      },
      "source": [
        "> **Ejemplo 2**\n",
        "\n",
        "Serie geometrica con:\n",
        "\n",
        "$k=10 \\hspace{10mm} a=3 \\hspace{10mm} r=1;$"
      ]
    },
    {
      "cell_type": "code",
      "metadata": {
        "colab": {
          "base_uri": "https://localhost:8080/"
        },
        "id": "vBCNHCS5lgF-",
        "outputId": "d727da67-b92c-4106-fc73-1e843e5cbaeb"
      },
      "source": [
        "serieGeometrica(10,3,1)"
      ],
      "execution_count": null,
      "outputs": [
        {
          "output_type": "stream",
          "text": [
            "Serie geometrica: [3, 3, 3, 3, 3, 3, 3, 3, 3, 3]\n",
            "La serie diverge\n"
          ],
          "name": "stdout"
        }
      ]
    },
    {
      "cell_type": "markdown",
      "metadata": {
        "id": "DMi915Ya0dDT"
      },
      "source": [
        "> **Ejemplo 3**\n",
        "\n",
        "Serie geometrica con:\n",
        "\n",
        "\n",
        "$k=10 \\hspace{10mm} a=1 \\hspace{10mm} r=0.66;$\n",
        "\n"
      ]
    },
    {
      "cell_type": "code",
      "metadata": {
        "colab": {
          "base_uri": "https://localhost:8080/"
        },
        "id": "cT_CX5B70toJ",
        "outputId": "c5d68a9b-36fa-4204-983a-2f8abc7b7804"
      },
      "source": [
        "serieGeometrica(10,1,0.66)"
      ],
      "execution_count": null,
      "outputs": [
        {
          "output_type": "stream",
          "text": [
            "Serie geometrica: [1.0, 0.66, 0.43560000000000004, 0.28749600000000003, 0.18974736000000003, 0.12523325760000004, 0.08265395001600002, 0.05455160701056002, 0.03600406062696961, 0.023762680013799945]\n",
            "\n",
            "Sumatoria de los 10 primeros terminos de la serie: 2.9411764705882355\n"
          ],
          "name": "stdout"
        }
      ]
    },
    {
      "cell_type": "markdown",
      "metadata": {
        "id": "XmNgAmYg1Mco"
      },
      "source": [
        "# **Sumas de potencias**\n",
        "\n",
        "Existen dos tipos de sumas de potencias comunmente consideradas. La primera es la suma de *p-ésima* potencia de un grupo de $n$ variables $x_k$.\n",
        "\n",
        "$$S_p(x_1,...,x_n)=\\sum_{k=1}^n x_k^p$$\n",
        "\n",
        "\n",
        "Y la segunda es un caso especial $x_k=k$,\n",
        "\n",
        "$$S_p (n)= \\sum_{k=1}^n k^p$$\n",
        "\n",
        "Las sumas generales de potencias surgen de las estadisticas. Por ejemplo, *k-estadisticas* son las más comunmente definidas en la potencia de sumas. Las sumas de potencias estan relacionadas con *polinomios simetricos* por las formulas de *Newton-Girard*.\n",
        "\n",
        "La sumatoria de $k$ veces, la $k$-ésima potencia de $x$ es dada analiticamente por:\n",
        "\n",
        "\\\\\n",
        "\n",
        "$$\\sum_{k=0}^n x^k=\\frac{x-(n+1)x^{n+1}+n \\hspace{1mm}x^{n+2}}{(x-1)^2} $$\n",
        "\n",
        "Otras sumas analiticas incluyen:\n",
        "\n",
        "$$(\\sum_{k=0}^\\infty x^k)^p=(1-x)^{-p}$$\n",
        "$$=\\frac{1}{(p-1)!}\\sum_{n=0}^\\infty \\frac{(n+p-1)!}{n!}\\hspace{1mm}x^n$$\n",
        "$$=\\frac{1}{(p-1)!}\\sum_{n=0}^\\infty (n+1)_{p-1} x^n$$\n",
        "\n",
        "Para $|x|< 1$, donde $(n)_p$ es el *simbolo de Pochhammer*. La versión finita tiene una elegante cercanía a:\n",
        "\n",
        "\n",
        "$$(\\sum_{k=0}^n x^k)^p=\\frac{1}{(p-1)!} \\sum_{k=0}^{n \\hspace{1mm} p}\\frac{(n-|n-k|+p-1)!}{(n-|n-k|)!} x^k$$\n",
        "\n",
        "\n",
        "Para $p=1$ y $2$. Una sumatoria adicional es dada por:\n",
        "\n",
        "\n",
        "$$(\\sum_{n=0}^\\infty a_n \\hspace{1mm} x^n)^2=\\sum_{n=0}^\\infty a_n^2 \\hspace{1mm} x^{2 \\hspace{1mm} n}+2 \\sum_{n=1 \\\\ i+j=n \\\\ i<j}^\\infty a_i \\hspace{1mm} a_j \\hspace{1mm} x^n$$\n",
        "\n",
        "\n",
        "Una solución análitica para una suma de potencias de enteros es:\n",
        "\n",
        "\n",
        "$$S_p(n)=\\sum_{k=1}^n k^p$$\n",
        "$$=\\zeta (-p)-\\zeta (-p, 1+n)$$\n",
        "$$=H_n^{(-p)}$$\n",
        "\n",
        "Donde $\\zeta (z)$ es la función *zeta Riemann*, $\\zeta (z;a)$ es la función *zeta Hurwitz*, y $H_n^{(k)}$ es una generalización del *número armónico*. Para el caso especial de $p$ un entero positivo, la *Formula de Faulhaber* nos da una sumatoria explicita como:\n",
        "\n",
        "\n",
        "$$S_p(n)=\\frac{1}{p+1}\\sum_{k=1}^{p+1}(-1)^{\\delta_{\\hspace{1mm} k \\hspace{1mm} p}} \n",
        "\\begin{pmatrix}\n",
        "p+1 \\\\\n",
        "k \\\\\n",
        "\\end{pmatrix} B_{p+1-k}\\hspace{1mm} n^k$$\n",
        "\n",
        "\n",
        "Donde $\\delta_{k \\hspace{1mm} p}$ es el *delta de Kronecker*, $\\begin{pmatrix}\n",
        "n \\\\\n",
        "k \\\\\n",
        "\\end{pmatrix}$ es un coeficiente binomial, y $B_k$ es un *número de Bernoulli*. Tambien es cierto que los coeficientes de los terminos de la expansión suman 1, tal como menciona Bernoulli.\n",
        "\n",
        "\n",
        "Bernoulli usó la propiedad del *numero del triangulo figurado* que:\n",
        "\n",
        "$$\\sum_{i=0}^n a_{ij}=\\frac{(n+1)\\hspace{1mm}a_{n j}}{j+1},$$\n",
        "\n",
        "Junto con la forma $a_{n\\hspace{1mm}j}$ que derivó inductivamente, el cálculo de la sumas hasta $n=10$. Para $p \\in \\mathbb{Z}>0,$ la suma es dada por:\n",
        "\n",
        "$$\\sum_{k=1}^n k^p=\\frac{(B+n+1)^{[p+1]}-B^{[p+1]}}{p+1},$$\n",
        "\n",
        "\n",
        "Donde la notación $B^{[k]}$ significa la cantidad en cuestión que se eleva a la potencia apropiada $k$, y todos los terminos de la forma $B^m$ son reemplazados con los correspondientes *numeros de Bernoulli* $B_m$. Escritos explicitamente en terminos de la suma de potencias.\n",
        "\n",
        "\n",
        "$$\\sum_{k=1}^n k^p=n^p+\\sum_{k=0}^p\\frac{B_k \\hspace{1mm} p!}{k!(p-k+1)!}n^{p-k+1}$$\n",
        "$$=\\sum_{k=1}^{p+1}\\frac{(-1)^{p-k+1} B_{p-k+1} \\hspace{1mm} p!}{k!(p-k+1)!}n^k$$\n",
        "$$=\\sum_{k=1}^{p+1} b_{p\\hspace{1mm}k}\\hspace{1mm}n^k$$\n",
        "\n",
        "Donde:\n",
        "\n",
        "$$b_{pk}=\\frac{(-1)^{p-k+1}B_{p-k+1}\\hspace{1mm}p!}{k!\\hspace{1mm}(p-k+1)}$$\n",
        "\n",
        "Tambien es cierto que los coeficientes de los terminos $b_{p \\hspace{1mm} k}$ suman 1,\n",
        "\n",
        "$$\\sum_{k=1}^{p+1}b_{p \\hspace{1mm}k}=1,$$\n",
        "\n",
        "Que Bernoulli declaró sin pruebas.\n",
        "\n",
        "La solución de una **serie doble** para $S_p(n)$ es dada por:\n",
        "\n",
        "$$S_p(n)=\\sum_{i=1}^{p}\\sum_{j=0}^{i-1}(-1)^j\\hspace{1mm}(i-j)^p \\begin{pmatrix}\n",
        "n+p-i+1 \\\\\n",
        "n-i \\\\\n",
        "\\end{pmatrix}\\begin{pmatrix}\n",
        "p+1 \\\\\n",
        "j \\\\\n",
        "\\end{pmatrix}$$\n",
        "\n",
        "\\\\\n",
        "\n",
        "Calculando las sumas para $p=1,...,10$ dado por:\n",
        "\n",
        "$$\\sum_{k=1}^n k=\\frac{1}{2}(n^2+n)$$\n",
        ".\n",
        "$$\\sum_{k=1}^n k^2=\\frac{1}{6}(2n^3+3n^2+n)$$\n",
        ".\n",
        "$$\\sum_{k=1}^n k^3=\\frac{1}{4}(n^4+2n^3+n^2)$$\n",
        ".\n",
        "$$\\sum_{k=1}^n k^4=\\frac{1}{30}(6n^5+15n^4+10n^3-n)$$\n",
        ".\n",
        "$$\\sum_{k=1}^n k^5=\\frac{1}{12}(2n^6+6n^5+5n^4-n^2)$$\n",
        ".\n",
        "$$\\sum_{k=1}^n k^6=\\frac{1}{42}(6n^7+21n^6+21n^5-7n^3+n)$$\n",
        ".\n",
        "$$\\sum_{k=1}^n k^7=\\frac{1}{24}(3 n^8+12n^7+14n^6-7n^4+2n^2)$$\n",
        ".\n",
        "$$\\sum_{k=1}^n k^8=\\frac{1}{90}(10n^9+45n^8+60n^7-42n^5+20n^3-3n)$$\n",
        ".\n",
        "$$\\sum_{k=1}^n k^9=\\frac{1}{20}(2n^{10}+10n^9+15n^8-14n^6+10n^4-3n^2)$$\n",
        "\n",
        "$$\\sum_{k=1}^n k^{10}=\\frac{1}{66}(6n^{11}+33n^{10}+55n^9-66n^7+66n^5-33n^3+5n)$$\n",
        "\n",
        "En forma factorizada:\n",
        "\n",
        "$$\\sum_{k=1}^n k=\\frac{1}{2}n(n+1)$$\n",
        ".\n",
        "$$\\sum_{k=1}^n k^2=\\frac{1}{6}n(n+1)(2n+1)$$\n",
        ".\n",
        "$$\\sum_{k=1}^n k^3=\\frac{1}{4}n^2(n+1)^2$$\n",
        ".\n",
        "$$\\sum_{k=1}^n k^4=\\frac{1}{30}n(n+1)(2n+1)(3n^2+3n-1)$$\n",
        ".\n",
        "$$\\sum_{k=1}^n k^5=\\frac{1}{12}n^2(n+1)^2(2n^2+2n-1)$$\n",
        ".\n",
        "$$\\sum_{k=1}^n k^6=\\frac{1}{42}n(n+1)(2n+1)(3n^4+6n^3-3n+1)$$\n",
        ".\n",
        "$$\\sum_{k=1}^n k^7=\\frac{1}{24}n^2(n+1)^2(3n^4+6n^3-n^2-4n+2)$$\n",
        ".\n",
        "$$\\sum_{k=1}^n k^8=\\frac{1}{90}n(n+1)(2n+1)(5n^6+15n^5+5n^4-15n^3-n^2+9n-3)$$\n",
        ".\n",
        "$$\\sum_{k=1}^n k^9=\\frac{1}{20}n^2(n+1)^2(n^2+n-1)(2n^4+4n^3-n^2-3n+3)$$\n",
        ".\n",
        "$$\\sum_{k=1}^n k^{10}=\\frac{1}{66}n(n+1)(2n+1)(n^2+n-1)(3n^6+9n^5+2n^4-11n^3+3n^2+10n-5)$$\n",
        "\n",
        "\n",
        "\n",
        "\n",
        "\n",
        "\n",
        "\n",
        "\n",
        "\n",
        "\n"
      ]
    },
    {
      "cell_type": "code",
      "metadata": {
        "id": "y6o-OHaVVNUw"
      },
      "source": [
        "def sumPotenciasLineal(n):\n",
        "  resultado= int(1/2*(n**2+n))\n",
        "  return resultado\n",
        "\n",
        "def sumGrado2(n):\n",
        "  a= int(1/6*(2*n**3+3*n**2+n))\n",
        "  return a\n",
        "\n",
        "def sumGrado3(n):\n",
        "  b= int(1/4*(n**4+2*n**3+n**2))\n",
        "  return b"
      ],
      "execution_count": null,
      "outputs": []
    },
    {
      "cell_type": "markdown",
      "metadata": {
        "id": "vCrFDL5kUuuQ"
      },
      "source": [
        "A continuación se presentan la sumatoria de $p=1,2,3,4,5,...,n$ donde difiere la potencia en cada caso.\n",
        "\n",
        "\n",
        "> **Ejemplo 1**\n",
        "\n",
        "Sumatoria de $n$ elementos en una serie lineal:\n",
        "\n",
        "$n=3 \\hspace{5mm} m=40 \\hspace{5mm} o=100$"
      ]
    },
    {
      "cell_type": "code",
      "metadata": {
        "colab": {
          "base_uri": "https://localhost:8080/"
        },
        "id": "T_dnefX56Pwi",
        "outputId": "ad92e162-68cd-41b2-9176-861b5d981e31"
      },
      "source": [
        "n=3\n",
        "m=40\n",
        "o=100\n",
        "\n",
        "print(\"Sumatoria de\",n,\"elementos\",sumPotenciasLineal(n))\n",
        "print(\"Sumatoria de\",m,\"elementos\",sumPotenciasLineal(m))\n",
        "print(\"Sumatoria de\",o,\"elementos\",sumPotenciasLineal(o))\n"
      ],
      "execution_count": null,
      "outputs": [
        {
          "output_type": "stream",
          "text": [
            "Sumatoria de 3 elementos 6\n",
            "Sumatoria de 40 elementos 820\n",
            "Sumatoria de 100 elementos 5050\n"
          ],
          "name": "stdout"
        }
      ]
    },
    {
      "cell_type": "markdown",
      "metadata": {
        "id": "Ln4ocDKUWTyF"
      },
      "source": [
        "> **Ejemplo 2**\n",
        "\n",
        "Sumatoria de $n$ elementos de grado 2.\n",
        "\n",
        "$n=3 \\hspace{5mm} m=40 \\hspace{5mm} o=100$\n",
        "\n"
      ]
    },
    {
      "cell_type": "code",
      "metadata": {
        "colab": {
          "base_uri": "https://localhost:8080/"
        },
        "id": "wLYJOPaFWgg3",
        "outputId": "82ba958b-ab08-427d-eaf3-b0e9685fc19e"
      },
      "source": [
        "print(\"Sumatoria de\",n,\"elementos\",sumGrado2(n))\n",
        "print(\"Sumatoria de\",m,\"elementos\",sumGrado2(m))\n",
        "print(\"Sumatoria de\",o,\"elementos\",sumGrado2(o))\n"
      ],
      "execution_count": null,
      "outputs": [
        {
          "output_type": "stream",
          "text": [
            "Sumatoria de 3 elementos 14\n",
            "Sumatoria de 40 elementos 22140\n",
            "Sumatoria de 100 elementos 338350\n"
          ],
          "name": "stdout"
        }
      ]
    },
    {
      "cell_type": "markdown",
      "metadata": {
        "id": "NlzEzfn_XKwl"
      },
      "source": [
        "> **Ejemplo 3**\n",
        "\n",
        "Sumatoria de $n$ elementos de grado 3.\n",
        "\n",
        "$n=3 \\hspace{5mm} m=40 \\hspace{5mm} o=100$\n"
      ]
    },
    {
      "cell_type": "code",
      "metadata": {
        "colab": {
          "base_uri": "https://localhost:8080/"
        },
        "id": "LspViOc3XZ6Y",
        "outputId": "1c5faf39-8a4d-44bd-c502-619e7ce5d227"
      },
      "source": [
        "print(\"Sumatoria de\",n,\"elementos:\",sumGrado3(n))\n",
        "print(\"Sumatoria de\",m,\"elementos:\",sumGrado3(m))\n",
        "print(\"Sumatoria de\",o,\"elementos:\",sumGrado3(o))\n"
      ],
      "execution_count": null,
      "outputs": [
        {
          "output_type": "stream",
          "text": [
            "Sumatoria de 3 elementos: 36\n",
            "Sumatoria de 40 elementos: 672400\n",
            "Sumatoria de 100 elementos: 25502500\n"
          ],
          "name": "stdout"
        }
      ]
    }
  ]
}