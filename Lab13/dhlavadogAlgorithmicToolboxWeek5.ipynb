{
  "nbformat": 4,
  "nbformat_minor": 0,
  "metadata": {
    "colab": {
      "name": "dhlavadogAlgorithmicToolboxWeek5",
      "provenance": []
    },
    "kernelspec": {
      "name": "python3",
      "display_name": "Python 3"
    },
    "language_info": {
      "name": "python"
    }
  },
  "cells": [
    {
      "cell_type": "markdown",
      "metadata": {
        "id": "a0fbApzUZu_x"
      },
      "source": [
        "# **5.1 - Money Change Again**"
      ]
    },
    {
      "cell_type": "code",
      "metadata": {
        "colab": {
          "base_uri": "https://localhost:8080/"
        },
        "id": "wuB3Q3l9ZcSq",
        "outputId": "34c4c503-a25d-4698-ed76-b8621d8f212b"
      },
      "source": [
        "import math\n",
        "\n",
        "money = int(input())\n",
        "denominations = [1, 3, 4]\n",
        "minCoins = [0] + [math.inf]*money\n",
        "\n",
        "for i in range(1, money+1):\n",
        "    for j in denominations:\n",
        "        if i>=j:\n",
        "            coins = minCoins[i-j]+1\n",
        "            if coins < minCoins[i]:\n",
        "                minCoins[i] = coins\n",
        "\n",
        "print(minCoins[money])"
      ],
      "execution_count": 1,
      "outputs": [
        {
          "output_type": "stream",
          "text": [
            "34\n",
            "9\n"
          ],
          "name": "stdout"
        }
      ]
    },
    {
      "cell_type": "markdown",
      "metadata": {
        "id": "DR11e3XYZ5Us"
      },
      "source": [
        "# **5.2 - Primitive Calculator**"
      ]
    },
    {
      "cell_type": "code",
      "metadata": {
        "colab": {
          "base_uri": "https://localhost:8080/"
        },
        "id": "0n9cohSVZ-D2",
        "outputId": "80a0ba07-3ca5-426d-8400-889b5aedb1cd"
      },
      "source": [
        "import math\n",
        "\n",
        "n = int(input())\n",
        "\n",
        "# number of operations required for getting 0, 1, 2,.. , n\n",
        "num_operations = [0, 0] + [math.inf]*(n-1)\n",
        "\n",
        "for i in range(2, n+1):\n",
        "    temp1, temp2, temp3 = [math.inf]*3\n",
        "\n",
        "    temp1 = num_operations[i-1] + 1 \n",
        "    if i%2 == 0: temp2 = num_operations[i//2] + 1\n",
        "    if i%3 == 0: temp3 = num_operations[i//3] + 1\n",
        "    min_ops = min(temp1, temp2, temp3)\n",
        "    num_operations[i] = min_ops\n",
        "\n",
        "print(num_operations[n])\n",
        "\n",
        "# Backtracking the numbers leading to n\n",
        "nums = [n]\n",
        "while n!=1:\n",
        "    if n%3 ==0 and num_operations[n]-1 == num_operations[n//3]:\n",
        "        nums += [n//3]\n",
        "        n = n//3\n",
        "    elif n%2 ==0 and num_operations[n]-1 == num_operations[n//2]:\n",
        "        nums += [n//2]\n",
        "        n = n//2\n",
        "    else:\n",
        "        nums += [n-1]\n",
        "        n = n - 1\n",
        "\n",
        "print(' '.join([str(i) for i in nums][::-1]))"
      ],
      "execution_count": 11,
      "outputs": [
        {
          "output_type": "stream",
          "text": [
            "5\n",
            "3\n",
            "1 2 4 5\n"
          ],
          "name": "stdout"
        }
      ]
    },
    {
      "cell_type": "markdown",
      "metadata": {
        "id": "yzOGc2vcbFRw"
      },
      "source": [
        "# **5.3 - Edit Distance**"
      ]
    },
    {
      "cell_type": "code",
      "metadata": {
        "colab": {
          "base_uri": "https://localhost:8080/"
        },
        "id": "9LAlMJZwfJsX",
        "outputId": "ba9d8b45-bc60-4bdf-f2e9-c0b2fb9b51ca"
      },
      "source": [
        "import numpy\n",
        "\n",
        "def EditDistance(s1, s2):\n",
        "    \"\"\" Computes the edit distance of two strings\n",
        "    (str, str) -> (int, 2D-array) \"\"\"\n",
        "    ln_s1 = len(s1)\n",
        "    ln_s2 = len(s2)\n",
        "\n",
        "    # Initializing the matrix\n",
        "    Matrix = numpy.zeros((ln_s1+1 , ln_s2+1))\n",
        "    for i in range(ln_s2+1):\n",
        "        Matrix[0][i] = i\n",
        "\n",
        "    for i in range(ln_s1+1):\n",
        "        Matrix[i][0] = i\n",
        "\n",
        "    # Filling the matrix\n",
        "    for i in range(1, ln_s1+1):\n",
        "        for j in range(1, ln_s2+1):\n",
        "            insertion = Matrix[i][j-1]   + 1\n",
        "            deletion  = Matrix[i-1][j]   + 1\n",
        "            mismatch  = Matrix[i-1][j-1] + 1\n",
        "            match     = Matrix[i-1][j-1]\n",
        "            if s1[i-1] == s2[j-1]:\n",
        "                Matrix[i][j] = min(insertion, deletion, match)\n",
        "            if s1[i-1] != s2[j-1]:\n",
        "                Matrix[i][j] = min(insertion, deletion, mismatch)\n",
        "    \n",
        "    return (int(Matrix[ln_s1][ln_s2]), Matrix)\n",
        "\n",
        "def OptimalAlignment(Matrix, s1, s2, top, bottom, i, j):\n",
        "    \"\"\" Finds the optimal alignment of two strings given the edit matrix\n",
        "    (2D-array, str, str, str, str, int, int) -> (str, str) \"\"\"\n",
        "\n",
        "    if i == 0 and j == 0:\n",
        "        return (' '.join(top[::-1]), ' '.join(bottom[::-1]))\n",
        "\n",
        "    if i>0 and Matrix[i][j] == Matrix[i-1][j] + 1:\n",
        "        top.append(f'|{s1[i-1]}|')\n",
        "        bottom.append('|-|')\n",
        "        return OptimalAlignment(Matrix, s1, s2, top, bottom, i-1, j)\n",
        "\n",
        "    elif j>0 and Matrix[i][j] == Matrix[i][j-1] + 1:\n",
        "        bottom.append(f'|{s2[j-1]}|')\n",
        "        top.append('|-|')\n",
        "        return OptimalAlignment(Matrix, s1, s2, top, bottom, i, j-1)\n",
        "\n",
        "    else:\n",
        "        top.append(f'|{s1[i-1]}|')\n",
        "        bottom.append(f'|{s2[j-1]}|')\n",
        "        return OptimalAlignment(Matrix, s1, s2, top, bottom, i-1, j-1)\n",
        "\n",
        "if __name__ == '__main__':\n",
        "    s1, s2 = input(), input()\n",
        "    edit_distance, Matrix = EditDistance(s1, s2)\n",
        "    top, bottom = OptimalAlignment(Matrix, s1, s2, [], [], len(s1), len(s2))\n",
        "\n",
        "    print(f'Editing distance : {edit_distance}')\n",
        "    print(f\"Optimal alignment:\\n{top}\\n{bottom}\")"
      ],
      "execution_count": 12,
      "outputs": [
        {
          "output_type": "stream",
          "text": [
            "ab\n",
            "ab\n",
            "Editing distance : 0\n",
            "Optimal alignment:\n",
            "|a| |b|\n",
            "|a| |b|\n"
          ],
          "name": "stdout"
        }
      ]
    },
    {
      "cell_type": "markdown",
      "metadata": {
        "id": "rRPQDMYLbvDv"
      },
      "source": [
        "# **5.4 - Longest Common Subsequence of Two Sequences**"
      ]
    },
    {
      "cell_type": "code",
      "metadata": {
        "colab": {
          "base_uri": "https://localhost:8080/"
        },
        "id": "e76APu1mb30k",
        "outputId": "088d0d9b-37cf-488a-9de3-bb02c7328e80"
      },
      "source": [
        "import numpy\n",
        "\n",
        "def LCS2(s1, s2, n1, n2):\n",
        "   \n",
        "    Matrix = numpy.zeros((n1+1 , n2+1))\n",
        "\n",
        "    for i in range(1, n1+1):\n",
        "        for j in range(1, n2+1):\n",
        "            if s1[i-1] == s2[j-1]:\n",
        "                Matrix[i][j] = Matrix[i-1][j-1] + 1\n",
        "            if s1[i-1] != s2[j-1]:\n",
        "                Matrix[i][j] = max(Matrix[i][j-1], Matrix[i-1][j])\n",
        "    \n",
        "    return (int(Matrix[n1][n2]), Matrix)\n",
        "\n",
        "def printSubsequence(Matrix, s1, s2, i, j, seq):\n",
        "   \n",
        "    if i == 0 or j == 0:\n",
        "        if seq == []: return None\n",
        "        return ''.join(seq[::-1])\n",
        "\n",
        "    if s1[i-1] == s2[j-1]:\n",
        "        seq.append(s1[i-1])\n",
        "        return printSubsequence(Matrix, s1, s2, i-1, j-1, seq)\n",
        "    \n",
        "    if Matrix[i-1][j] > Matrix[i][j-1]: \n",
        "        return printSubsequence(Matrix, s1, s2, i-1, j, seq)\n",
        "    else: \n",
        "        return printSubsequence(Matrix, s1, s2, i, j-1, seq)\n",
        "\n",
        "\n",
        "if __name__ == '__main__':\n",
        "    n1, s1, n2, s2 = int(input()), input(), int(input()), input()\n",
        "   \n",
        "    LCS_length, Matrix = LCS2(s1, s2, n1, n2)\n",
        "    sequence = printSubsequence(Matrix, s1, s2, n1, n2, [])\n",
        "    print(LCS_length)\n",
        "   "
      ],
      "execution_count": 19,
      "outputs": [
        {
          "output_type": "stream",
          "text": [
            "4\n",
            "2 7 8 3\n",
            "4\n",
            "5 2 8 7\n",
            "2\n"
          ],
          "name": "stdout"
        }
      ]
    },
    {
      "cell_type": "markdown",
      "metadata": {
        "id": "Jo1vgZx7c5GN"
      },
      "source": [
        "# **5.5 - Longest Common Subsequence of Three Sequences**"
      ]
    },
    {
      "cell_type": "code",
      "metadata": {
        "colab": {
          "base_uri": "https://localhost:8080/"
        },
        "id": "k0Ea6AHvdAcJ",
        "outputId": "2f4237f2-4044-4444-ed2d-dc2d25a55157"
      },
      "source": [
        "import numpy\n",
        "                                    \n",
        "def LCS3(s1, s2, s3, n1, n2, n3):\n",
        "\n",
        "    Matrix = numpy.zeros((n1+1 , n2+1, n3+1))\n",
        "\n",
        "    for i in range(1, n1+1):\n",
        "        for j in range(1, n2+1):\n",
        "            for k in range(1, n3+1):\n",
        "                if s1[i-1] == s2[j-1] == s3[k-1]:\n",
        "                    Matrix[i][j][k] = Matrix[i-1][j-1][k-1] + 1\n",
        "                else:\n",
        "                    Matrix[i][j][k] = max(Matrix[i-1][j][k], Matrix[i][j-1][k], Matrix[i][j][k-1])\n",
        "    \n",
        "    return (int(Matrix[-1][-1][-1]), Matrix)\n",
        "\n",
        "def printSubsequence(Matrix, s1, s2, s3, i, j, k, seq):\n",
        " \n",
        "    if i == 0 or j == 0 or k == 0:\n",
        "        if seq == []: return None\n",
        "        else : return ''.join(seq[::-1])\n",
        "\n",
        "    if s1[i-1] == s2[j-1] == s3[k-1]:\n",
        "        seq.append(s1[i-1])\n",
        "        return printSubsequence(Matrix, s1, s2, s3, i-1, j-1, k-1, seq)\n",
        "    \n",
        "    if Matrix[i-1][j][k] > Matrix[i][j-1][k]:\n",
        "        if Matrix[i-1][j][k] > Matrix[i][j][k-1]:\n",
        "            return printSubsequence(Matrix, s1, s2, s3, i-1, j, k, seq)\n",
        "        else:\n",
        "            return printSubsequence(Matrix, s1, s2, s3, i, j, k-1, seq)\n",
        "    else:\n",
        "        if Matrix[i][j-1][k]> Matrix[i][j][k-1]:\n",
        "            return printSubsequence(Matrix, s1, s2, s3, i, j-1, k, seq)\n",
        "        else:\n",
        "            return printSubsequence(Matrix, s1, s2, s3, i, j, k-1, seq)\n",
        "\n",
        "if __name__ == '__main__':\n",
        "    n1, s1, n2, s2, n3, s3 = int(input()), input(), int(input()), input(), int(input()), input()\n",
        "\n",
        "    LCS_length, Matrix = LCS3(s1, s2, s3, n1, n2, n3)\n",
        "    print(LCS_length)\n",
        "    sequence = printSubsequence(Matrix, s1, s2, s3, n1, n2, n3, [])\n"
      ],
      "execution_count": 20,
      "outputs": [
        {
          "output_type": "stream",
          "text": [
            "5\n",
            "8 3 2 1 7\n",
            "7\n",
            "8 2 1 3 8 10 7\n",
            "6\n",
            "6 8 3 1 4 7\n",
            "3\n"
          ],
          "name": "stdout"
        }
      ]
    },
    {
      "cell_type": "markdown",
      "metadata": {
        "id": "Qs4qA62LiG2E"
      },
      "source": [
        "![imagen.png](data:image/png;base64,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)"
      ]
    }
  ]
}