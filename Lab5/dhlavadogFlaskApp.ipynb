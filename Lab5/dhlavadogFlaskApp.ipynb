{
  "nbformat": 4,
  "nbformat_minor": 0,
  "metadata": {
    "colab": {
      "name": "dhlavadogFlaskApp.ipynb",
      "provenance": [],
      "collapsed_sections": []
    },
    "kernelspec": {
      "name": "python3",
      "display_name": "Python 3"
    },
    "language_info": {
      "name": "python"
    }
  },
  "cells": [
    {
      "cell_type": "markdown",
      "metadata": {
        "id": "1Ka_obgEfKh8"
      },
      "source": [
        "# **Flask**\n",
        "\n",
        "## *Link to site*:\n",
        "\n",
        "http://dhlavadog.pythonanywhere.com/\n",
        "\n",
        "Aplication based on the video:\n",
        "https://www.youtube.com/watch?v=75-oCKUx3oU&t=194s"
      ]
    }
  ]
}