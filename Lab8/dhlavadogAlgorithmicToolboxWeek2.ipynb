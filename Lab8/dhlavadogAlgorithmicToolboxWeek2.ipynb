{
  "nbformat": 4,
  "nbformat_minor": 0,
  "metadata": {
    "colab": {
      "name": " dhlavadogAlgorithmicToolboxWeek2",
      "provenance": []
    },
    "kernelspec": {
      "name": "python3",
      "display_name": "Python 3"
    },
    "language_info": {
      "name": "python"
    }
  },
  "cells": [
    {
      "cell_type": "markdown",
      "metadata": {
        "id": "jhEJjGI1hE-W"
      },
      "source": [
        "# **Fibonacci Number**"
      ]
    },
    {
      "cell_type": "code",
      "metadata": {
        "colab": {
          "base_uri": "https://localhost:8080/"
        },
        "id": "hv074F0Rgets",
        "outputId": "a81afbbb-0857-4d8d-addb-e6f16f03e7ff"
      },
      "source": [
        "def naiveFibonnaci(n):\n",
        "  if n <= 1:\n",
        "    return n\n",
        "  else:\n",
        "    return naiveFibonnaci(n-1)+ naiveFibonnaci(n-2)\n",
        "\n",
        "\n",
        "a = int(input())\n",
        "\n",
        "naiveFibonnaci(a)\n"
      ],
      "execution_count": 47,
      "outputs": [
        {
          "output_type": "stream",
          "text": [
            "0\n"
          ],
          "name": "stdout"
        },
        {
          "output_type": "execute_result",
          "data": {
            "text/plain": [
              "0"
            ]
          },
          "metadata": {
            "tags": []
          },
          "execution_count": 47
        }
      ]
    },
    {
      "cell_type": "markdown",
      "metadata": {
        "id": "nHzQdRY8in--"
      },
      "source": [
        "# **Last Digit of a Large Fibonnaci Number**"
      ]
    },
    {
      "cell_type": "code",
      "metadata": {
        "colab": {
          "base_uri": "https://localhost:8080/"
        },
        "id": "FzBli5uwiy6o",
        "outputId": "88309d61-64d6-4617-8224-9c19ce6e1dc1"
      },
      "source": [
        "def get_fibonacci_last_digit_naive(n):\n",
        "    if n <= 1:\n",
        "        return n\n",
        "\n",
        "    previous = 0\n",
        "    current  = 1\n",
        "\n",
        "    for _ in range(n - 1):\n",
        "        previous, current = current, previous + current\n",
        "\n",
        "    return current % 10\n",
        "\n",
        "a = int(input())\n",
        "\n",
        "get_fibonacci_last_digit_naive(a)"
      ],
      "execution_count": 18,
      "outputs": [
        {
          "output_type": "stream",
          "text": [
            "327305\n"
          ],
          "name": "stdout"
        },
        {
          "output_type": "execute_result",
          "data": {
            "text/plain": [
              "5"
            ]
          },
          "metadata": {
            "tags": []
          },
          "execution_count": 18
        }
      ]
    },
    {
      "cell_type": "markdown",
      "metadata": {
        "id": "za6Vu_UawSG8"
      },
      "source": [
        "# **Greatest Common Divisor**"
      ]
    },
    {
      "cell_type": "code",
      "metadata": {
        "colab": {
          "base_uri": "https://localhost:8080/"
        },
        "id": "NNSGAuI2wWbu",
        "outputId": "580ebbd7-83e5-4667-a6f7-6efac33a08d1"
      },
      "source": [
        "def naiveGCD(a, b):\n",
        "  best = 0\n",
        "  for d in range(1,a+b):\n",
        "    if a%d == 0 and b%d == 0:\n",
        "      best = d\n",
        "  return best \n",
        "\n",
        "\n",
        "a,b = map(int,input().split())\n",
        "\n",
        "naiveGCD(a,b)"
      ],
      "execution_count": 20,
      "outputs": [
        {
          "output_type": "stream",
          "text": [
            "28851538 1183019\n"
          ],
          "name": "stdout"
        },
        {
          "output_type": "execute_result",
          "data": {
            "text/plain": [
              "17657"
            ]
          },
          "metadata": {
            "tags": []
          },
          "execution_count": 20
        }
      ]
    },
    {
      "cell_type": "markdown",
      "metadata": {
        "id": "yTaKRzUC00g0"
      },
      "source": [
        "# **Least Common Multiple**"
      ]
    },
    {
      "cell_type": "code",
      "metadata": {
        "colab": {
          "base_uri": "https://localhost:8080/"
        },
        "id": "rH_Sea0t050q",
        "outputId": "03d3f8da-be23-468b-91c6-d7c4950ce27b"
      },
      "source": [
        "def naiveLCM(a, b):\n",
        "    for l in range(1, a*b + 1):\n",
        "        if l % a == 0 and l % b == 0:\n",
        "            return l\n",
        "\n",
        "    return a*b\n",
        "  \n",
        "a,b = map(int,input().split())\n",
        "\n",
        "naiveLCM(a,b)"
      ],
      "execution_count": 31,
      "outputs": [
        {
          "output_type": "stream",
          "text": [
            "8 9\n"
          ],
          "name": "stdout"
        },
        {
          "output_type": "execute_result",
          "data": {
            "text/plain": [
              "72"
            ]
          },
          "metadata": {
            "tags": []
          },
          "execution_count": 31
        }
      ]
    },
    {
      "cell_type": "markdown",
      "metadata": {
        "id": "hGOdyVPJ5G3t"
      },
      "source": [
        "# **Fibonacci Number Again**"
      ]
    },
    {
      "cell_type": "code",
      "metadata": {
        "colab": {
          "base_uri": "https://localhost:8080/"
        },
        "id": "SbHPLBmk5MuW",
        "outputId": "9d59e8ca-1f2f-497b-8657-71ee157c7d4a"
      },
      "source": [
        "def fibonacciNumberAgain(n, m):\n",
        "    if n <= 1:\n",
        "        return n\n",
        "\n",
        "    previous = 0\n",
        "    current  = 1\n",
        "\n",
        "    for _ in range(n - 1):\n",
        "        previous, current = current, previous + current\n",
        "\n",
        "    return current % m\n",
        "\n",
        "a,b = map(int,input().split())\n",
        "\n",
        "fibonacciNumberAgain(a,b)"
      ],
      "execution_count": 34,
      "outputs": [
        {
          "output_type": "stream",
          "text": [
            "239 1000\n"
          ],
          "name": "stdout"
        },
        {
          "output_type": "execute_result",
          "data": {
            "text/plain": [
              "161"
            ]
          },
          "metadata": {
            "tags": []
          },
          "execution_count": 34
        }
      ]
    },
    {
      "cell_type": "markdown",
      "metadata": {
        "id": "2zU7q5H19Dwn"
      },
      "source": [
        "# **Last Digit of the Sum of Fibonacci Numbers**\n",
        "\n"
      ]
    },
    {
      "cell_type": "code",
      "metadata": {
        "colab": {
          "base_uri": "https://localhost:8080/"
        },
        "id": "XyclPNyX9fNJ",
        "outputId": "eb6b8b08-1d3a-4925-93f9-c2e61ef265bf"
      },
      "source": [
        "def LastDigitSumFN(n):\n",
        "    if n <= 1:\n",
        "        return n\n",
        "\n",
        "    previous = 0\n",
        "    current  = 1\n",
        "    sum      = 1\n",
        "\n",
        "    for _ in range(n - 1):\n",
        "        previous, current = current, previous + current\n",
        "        sum += current\n",
        "\n",
        "    return sum % 10\n",
        "\n",
        "a = int(input())\n",
        "\n",
        "LastDigitSumFN(a)"
      ],
      "execution_count": 38,
      "outputs": [
        {
          "output_type": "stream",
          "text": [
            "100\n"
          ],
          "name": "stdout"
        },
        {
          "output_type": "execute_result",
          "data": {
            "text/plain": [
              "5"
            ]
          },
          "metadata": {
            "tags": []
          },
          "execution_count": 38
        }
      ]
    },
    {
      "cell_type": "markdown",
      "metadata": {
        "id": "NBJdRTYj-jtV"
      },
      "source": [
        "# **Last Digit of the Sum of Fibonacci Numbers Again**"
      ]
    },
    {
      "cell_type": "code",
      "metadata": {
        "colab": {
          "base_uri": "https://localhost:8080/"
        },
        "id": "s18aitHm-poL",
        "outputId": "b1932f27-a2dc-4393-9c66-4918ce432b87"
      },
      "source": [
        "def LastDigitSumFNAgain(from_, to):\n",
        "    sum = 0\n",
        "\n",
        "    current = 0\n",
        "    next  = 1\n",
        "\n",
        "    for i in range(to + 1):\n",
        "        if i >= from_:\n",
        "            sum += current\n",
        "\n",
        "        current, next = next, current + next\n",
        "\n",
        "    return sum % 10\n",
        "\n",
        "a,b = map(int,input().split())\n",
        "\n",
        "LastDigitSumFNAgain(a,b)\n"
      ],
      "execution_count": 41,
      "outputs": [
        {
          "output_type": "stream",
          "text": [
            "10 200\n"
          ],
          "name": "stdout"
        },
        {
          "output_type": "execute_result",
          "data": {
            "text/plain": [
              "2"
            ]
          },
          "metadata": {
            "tags": []
          },
          "execution_count": 41
        }
      ]
    },
    {
      "cell_type": "markdown",
      "metadata": {
        "id": "QN0H4i1y_zYA"
      },
      "source": [
        "# **Last Digit of the Sum of Squares of Fibonacci Numbers**"
      ]
    },
    {
      "cell_type": "code",
      "metadata": {
        "colab": {
          "base_uri": "https://localhost:8080/"
        },
        "id": "E2XiKr0mAAhE",
        "outputId": "c7810403-c1bf-46d8-984e-93ce133ffcc5"
      },
      "source": [
        "def fibonacciSumsSquares(n):\n",
        "    if n <= 1:\n",
        "        return n\n",
        "\n",
        "    previous = 0\n",
        "    current  = 1\n",
        "    sum      = 1\n",
        "\n",
        "    for _ in range(n - 1):\n",
        "        previous, current = current, previous + current\n",
        "        sum += current * current\n",
        "\n",
        "    return sum % 10\n",
        "\n",
        "\n",
        "a = int(input())\n",
        "\n",
        "fibonacciSumsSquares(a)\n"
      ],
      "execution_count": 46,
      "outputs": [
        {
          "output_type": "stream",
          "text": [
            "73\n"
          ],
          "name": "stdout"
        },
        {
          "output_type": "execute_result",
          "data": {
            "text/plain": [
              "1"
            ]
          },
          "metadata": {
            "tags": []
          },
          "execution_count": 46
        }
      ]
    },
    {
      "cell_type": "markdown",
      "metadata": {
        "id": "FLSc3sdxRZCD"
      },
      "source": [
        "![imagen.png](data:image/png;base64,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)"
      ]
    }
  ]
}