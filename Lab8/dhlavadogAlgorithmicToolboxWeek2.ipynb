{
  "nbformat": 4,
  "nbformat_minor": 0,
  "metadata": {
    "colab": {
      "name": " dhlavadogAlgorithmicToolboxWeek2",
      "provenance": []
    },
    "kernelspec": {
      "name": "python3",
      "display_name": "Python 3"
    },
    "language_info": {
      "name": "python"
    }
  },
  "cells": [
    {
      "cell_type": "markdown",
      "metadata": {
        "id": "jhEJjGI1hE-W"
      },
      "source": [
        "# **Fibonacci Number**"
      ]
    },
    {
      "cell_type": "code",
      "metadata": {
        "colab": {
          "base_uri": "https://localhost:8080/"
        },
        "id": "PxjtIYnUCjvC",
        "outputId": "a0cf8352-dad3-4ee8-d45c-e7934968c7bb"
      },
      "source": [
        "%%writefile 1fibonacci.cpp\n",
        "\n",
        "#include <iostream>\n",
        "#include <cassert>\n",
        "#include<math.h>\n",
        "\n",
        "long long int fibonacci_fast(int n) {\n",
        "    long long int k;\n",
        "    k=(1/pow(5,0.5))*(pow((1+pow(5,0.5))/2 ,n)-pow((1-pow(5,0.5))/2 ,n));\n",
        "    return k;\n",
        "}\n",
        "\n",
        "int main() {\n",
        "    int n = 0;\n",
        "    std::cin >> n;\n",
        "    std::cout << fibonacci_fast(n) << '\\n';\n",
        "    return 0;\n",
        "}\n"
      ],
      "execution_count": 1,
      "outputs": [
        {
          "output_type": "stream",
          "text": [
            "Writing 1fibonacci.cpp\n"
          ],
          "name": "stdout"
        }
      ]
    },
    {
      "cell_type": "code",
      "metadata": {
        "colab": {
          "base_uri": "https://localhost:8080/"
        },
        "id": "7P4lYtffC5pU",
        "outputId": "df05ecac-b43a-4605-90cd-d2d16425f8d3"
      },
      "source": [
        "!g++ 1fibonacci.cpp -o 1fibonacci\n",
        "!./1fibonacci"
      ],
      "execution_count": 2,
      "outputs": [
        {
          "output_type": "stream",
          "text": [
            "10\n",
            "55\n"
          ],
          "name": "stdout"
        }
      ]
    },
    {
      "cell_type": "markdown",
      "metadata": {
        "id": "nHzQdRY8in--"
      },
      "source": [
        "# **Last Digit of a Large Fibonnaci Number**"
      ]
    },
    {
      "cell_type": "code",
      "metadata": {
        "colab": {
          "base_uri": "https://localhost:8080/"
        },
        "id": "vN1B7BCfEVXo",
        "outputId": "f103ddab-421d-4520-9aaf-43e0de175619"
      },
      "source": [
        "%%writefile fibonacciLastDigit.cpp\n",
        "\n",
        "#include <iostream>\n",
        "\n",
        "using namespace std;\n",
        "\n",
        "int grr(int n) {\n",
        "    if (n <= 1)\n",
        "        return n;\n",
        "    int uno = 0;\n",
        "    int dos  = 1;\n",
        "    for (int i = 0; i < n - 1; ++i) {\n",
        "        int temporal = uno;\n",
        "        uno = dos;\n",
        "        dos = temporal + dos;\n",
        "        if(dos>9){\n",
        "        \tdos=dos%10;\n",
        "        }\n",
        "    }\n",
        "    return dos;\n",
        "}\n",
        "\n",
        "int main() {\n",
        "    int n,ultimodigito;\n",
        "    cin >> n;\n",
        "    cout << grr(n)<< '\\n';\n",
        "    }\n"
      ],
      "execution_count": 6,
      "outputs": [
        {
          "output_type": "stream",
          "text": [
            "Writing fibonacciLastDigit.cpp\n"
          ],
          "name": "stdout"
        }
      ]
    },
    {
      "cell_type": "code",
      "metadata": {
        "colab": {
          "base_uri": "https://localhost:8080/"
        },
        "id": "AJ1bPt0WEnRR",
        "outputId": "5d64d033-471c-4d86-c29f-a77eab0f7493"
      },
      "source": [
        "!g++ fibonacciLastDigit.cpp -o 2fibonacci\n",
        "!./2fibonacci"
      ],
      "execution_count": 7,
      "outputs": [
        {
          "output_type": "stream",
          "text": [
            "327305\n",
            "5\n"
          ],
          "name": "stdout"
        }
      ]
    },
    {
      "cell_type": "markdown",
      "metadata": {
        "id": "za6Vu_UawSG8"
      },
      "source": [
        "# **Greatest Common Divisor**"
      ]
    },
    {
      "cell_type": "code",
      "metadata": {
        "colab": {
          "base_uri": "https://localhost:8080/"
        },
        "id": "P3HowcU_FAuy",
        "outputId": "9d096eec-62d3-4b64-ddab-7e8159c7639c"
      },
      "source": [
        "def EuclidGCD(a,b):\n",
        "  if b == 0:\n",
        "    return a\n",
        "  residuo = a%b\n",
        "  return EuclidGCD(b, residuo)\n",
        "\n",
        "\n",
        "a,b = map(int,input().split())\n",
        "\n",
        "EuclidGCD(a,b)"
      ],
      "execution_count": 9,
      "outputs": [
        {
          "output_type": "stream",
          "text": [
            "28851538 1183019\n"
          ],
          "name": "stdout"
        },
        {
          "output_type": "execute_result",
          "data": {
            "text/plain": [
              "17657"
            ]
          },
          "metadata": {
            "tags": []
          },
          "execution_count": 9
        }
      ]
    },
    {
      "cell_type": "markdown",
      "metadata": {
        "id": "yTaKRzUC00g0"
      },
      "source": [
        "# **Least Common Multiple**"
      ]
    },
    {
      "cell_type": "code",
      "metadata": {
        "colab": {
          "base_uri": "https://localhost:8080/"
        },
        "id": "QXcJpEV2Fdpi",
        "outputId": "f67ad27e-e26a-4de8-f6df-9bceaa76bab7"
      },
      "source": [
        "%%writefile LCM.cpp\n",
        "\n",
        "#include <iostream>\n",
        "using namespace std;\n",
        "\n",
        "int main() {\n",
        "  long long int a, b,maxi,mini,i=0;\n",
        "  std::cin >> a >> b;\n",
        "  maxi=max(a,b);\n",
        "  mini=min(a,b);\n",
        "  if(maxi% mini==0){cout<<maxi;}\n",
        "  else{a=maxi;\n",
        "\n",
        "      while(a%mini!=0){a=a+maxi;}\n",
        "      cout<<a;\n",
        "      \n",
        "  }\n",
        "  return 0;\n",
        "}\n"
      ],
      "execution_count": 10,
      "outputs": [
        {
          "output_type": "stream",
          "text": [
            "Writing LCM.cpp\n"
          ],
          "name": "stdout"
        }
      ]
    },
    {
      "cell_type": "code",
      "metadata": {
        "colab": {
          "base_uri": "https://localhost:8080/"
        },
        "id": "iKMMZg9HGENI",
        "outputId": "23adab8b-0ded-4977-9a3a-d83d5649bf32"
      },
      "source": [
        "!g++ LCM.cpp -o LCM\n",
        "!./LCM"
      ],
      "execution_count": 11,
      "outputs": [
        {
          "output_type": "stream",
          "text": [
            "761457 614573\n",
            "467970912861"
          ],
          "name": "stdout"
        }
      ]
    },
    {
      "cell_type": "markdown",
      "metadata": {
        "id": "hGOdyVPJ5G3t"
      },
      "source": [
        "# **Fibonacci Number Again**"
      ]
    },
    {
      "cell_type": "code",
      "metadata": {
        "colab": {
          "base_uri": "https://localhost:8080/"
        },
        "id": "7wA_8K52GsI_",
        "outputId": "86f75a23-7951-4b93-97f1-282cc8253f74"
      },
      "source": [
        "%%writefile fibonacciNumberAgain.cpp\n",
        "\n",
        "#include <iostream>\n",
        "using namespace std;\n",
        "\n",
        "long long int P(long long int m) {\n",
        "\tlong long int x = 0, y = 1, z = x + y; \n",
        "\tfor (int i = 0; i < m*m; i++) {\n",
        "\t\tz = (x + y) % m; \n",
        "\t\tx = y; \n",
        "\t\ty = z; \n",
        "\t\tif (x == 0 && y == 1)\n",
        "\t\t\treturn i + 1; \n",
        "\t}\n",
        "}\n",
        "int Solucionar(long long int n, long long int m) {\n",
        "\tlong long remain = n % P(m);\n",
        "\n",
        "\tlong long first = 0;\n",
        "\tlong long second = 1;\n",
        "\n",
        "\tlong long res = remain;\n",
        "\n",
        "\tfor (int i = 1; i < remain; i++) {\n",
        "\t\tres = (first + second) % m;\n",
        "\t\tfirst = second;\n",
        "\t\tsecond = res;\n",
        "\t}\n",
        "\n",
        "\treturn res % m;\n",
        "}\n",
        "int main() {\n",
        "\tlong long int n, m; \n",
        "\tcin >> n >> m; \n",
        "\tcout << Solucionar(n, m) << endl;\n",
        "}\n"
      ],
      "execution_count": 12,
      "outputs": [
        {
          "output_type": "stream",
          "text": [
            "Writing fibonacciNumberAgain.cpp\n"
          ],
          "name": "stdout"
        }
      ]
    },
    {
      "cell_type": "code",
      "metadata": {
        "colab": {
          "base_uri": "https://localhost:8080/"
        },
        "id": "WNV_8_BSHAn4",
        "outputId": "10e66e44-b013-47d0-8057-851079d89eb3"
      },
      "source": [
        "!g++ fibonacciNumberAgain.cpp -o fiboAgain\n",
        "!./fiboAgain"
      ],
      "execution_count": 13,
      "outputs": [
        {
          "output_type": "stream",
          "text": [
            "2816213588 239\n",
            "151\n"
          ],
          "name": "stdout"
        }
      ]
    },
    {
      "cell_type": "markdown",
      "metadata": {
        "id": "2zU7q5H19Dwn"
      },
      "source": [
        "# **Last Digit of the Sum of Fibonacci Numbers**\n",
        "\n"
      ]
    },
    {
      "cell_type": "code",
      "metadata": {
        "colab": {
          "base_uri": "https://localhost:8080/"
        },
        "id": "-keXFgEYHjKJ",
        "outputId": "9e93a16e-3187-4953-9aaf-a212105fb535"
      },
      "source": [
        "%%writefile LastDigitFiboNumber.cpp\n",
        "\n",
        "#include <iostream>\n",
        "\n",
        "int fibonaccisum(long long n) {\n",
        "    if (n <= 1)\n",
        "        return n;\n",
        "\n",
        "    long long previous = 0;\n",
        "    long long current  = 1;\n",
        "    long long sum      = 1;\n",
        "\n",
        "    for (long long i = 0; i < n - 1; ++i) {\n",
        "        long long tmp_previous = previous;\n",
        "        previous = current;\n",
        "        current = tmp_previous + current;\n",
        "        sum += current;\n",
        "    }\n",
        "\n",
        "    return sum % 10;\n",
        "}\n",
        "\n",
        "int main() {\n",
        "    long long n = 0;\n",
        "    std::cin >> n;\n",
        "    std::cout << fibonaccisum(n);\n",
        "}\n"
      ],
      "execution_count": 15,
      "outputs": [
        {
          "output_type": "stream",
          "text": [
            "Overwriting LastDigitFiboNumber.cpp\n"
          ],
          "name": "stdout"
        }
      ]
    },
    {
      "cell_type": "code",
      "metadata": {
        "colab": {
          "base_uri": "https://localhost:8080/"
        },
        "id": "_87R1S9BIMjy",
        "outputId": "bc41eca1-d0f9-4e4c-b88c-7ad488676abc"
      },
      "source": [
        "!g++ LastDigitFiboNumber.cpp -o fiboN\n",
        "!./fiboN"
      ],
      "execution_count": 16,
      "outputs": [
        {
          "output_type": "stream",
          "text": [
            "100\n",
            "5"
          ],
          "name": "stdout"
        }
      ]
    },
    {
      "cell_type": "markdown",
      "metadata": {
        "id": "NBJdRTYj-jtV"
      },
      "source": [
        "# **Last Digit of the Sum of Fibonacci Numbers Again**"
      ]
    },
    {
      "cell_type": "code",
      "metadata": {
        "colab": {
          "base_uri": "https://localhost:8080/"
        },
        "id": "s18aitHm-poL",
        "outputId": "b1932f27-a2dc-4393-9c66-4918ce432b87"
      },
      "source": [
        "def LastDigitSumFNAgain(from_, to):\n",
        "    sum = 0\n",
        "\n",
        "    current = 0\n",
        "    next  = 1\n",
        "\n",
        "    for i in range(to + 1):\n",
        "        if i >= from_:\n",
        "            sum += current\n",
        "\n",
        "        current, next = next, current + next\n",
        "\n",
        "    return sum % 10\n",
        "\n",
        "a,b = map(int,input().split())\n",
        "\n",
        "LastDigitSumFNAgain(a,b)\n"
      ],
      "execution_count": null,
      "outputs": [
        {
          "output_type": "stream",
          "text": [
            "10 200\n"
          ],
          "name": "stdout"
        },
        {
          "output_type": "execute_result",
          "data": {
            "text/plain": [
              "2"
            ]
          },
          "metadata": {
            "tags": []
          },
          "execution_count": 41
        }
      ]
    },
    {
      "cell_type": "code",
      "metadata": {
        "colab": {
          "base_uri": "https://localhost:8080/"
        },
        "id": "ZCMUIz65JhMC",
        "outputId": "8af8bf78-1b50-46cc-a5aa-4add2d885999"
      },
      "source": [
        "%%writefile lastDigitFiboAgain.cpp\n",
        "\n",
        "#include <iostream>\n",
        "\n",
        "using namespace std;\n",
        "\n",
        "int grr(long long int n) //Solo para valores pequeños.\n",
        "{\n",
        "    if (n <= 2) return n;\n",
        "    int uno=1,dos=2,salida;\n",
        "    for (long int i=1; i<n-1;i++)\n",
        "    {\n",
        "        salida=(uno+dos+1);\n",
        "        if(salida>=1000){salida=salida-1000;}\n",
        "    \t  uno=dos;\n",
        "    \t  dos=salida;\n",
        "    }\n",
        "    return(salida%10);\n",
        "}\n",
        "\n",
        "long long int sumfib(long long int n)\n",
        "{\n",
        "    long long int k;\n",
        "    long long int secuencia[120];\n",
        "    for(int i=0;i<120;i++)\n",
        "    {\n",
        "        secuencia[i]=grr(i);\n",
        "    }\n",
        "    k=n%120;\n",
        "    return(secuencia[k]);\n",
        "\t\n",
        "}\n",
        "\n",
        "int main() \n",
        "{\n",
        "    long long int x,y,total,parcial;\n",
        "    std::cin >> x>>y;\n",
        "    if(x==0){x=1;}\n",
        "    if(x>y){std::cout<<0;exit(0);}\n",
        "    total=sumfib(y);\n",
        "    parcial=sumfib(x-1);\n",
        "\n",
        "    if(total-parcial<0){total=total+10;}\n",
        "    std::cout<<total-parcial;\n",
        "   \n",
        "    return(0);\n",
        "}\n"
      ],
      "execution_count": 19,
      "outputs": [
        {
          "output_type": "stream",
          "text": [
            "Overwriting lastDigitFiboAgain.cpp\n"
          ],
          "name": "stdout"
        }
      ]
    },
    {
      "cell_type": "code",
      "metadata": {
        "colab": {
          "base_uri": "https://localhost:8080/"
        },
        "id": "0chdYn6mKWtm",
        "outputId": "abb22114-a74b-42c8-97ed-e6b21e5a48c5"
      },
      "source": [
        "!g++ lastDigitFiboAgain.cpp -o fibo7\n",
        "!./fibo7"
      ],
      "execution_count": 20,
      "outputs": [
        {
          "output_type": "stream",
          "text": [
            "10 200\n",
            "2"
          ],
          "name": "stdout"
        }
      ]
    },
    {
      "cell_type": "markdown",
      "metadata": {
        "id": "QN0H4i1y_zYA"
      },
      "source": [
        "# **Last Digit of the Sum of Squares of Fibonacci Numbers**"
      ]
    },
    {
      "cell_type": "code",
      "metadata": {
        "colab": {
          "base_uri": "https://localhost:8080/"
        },
        "id": "E2XiKr0mAAhE",
        "outputId": "c7810403-c1bf-46d8-984e-93ce133ffcc5"
      },
      "source": [
        "def fibonacciSumsSquares(n):\n",
        "    if n <= 1:\n",
        "        return n\n",
        "\n",
        "    previous = 0\n",
        "    current  = 1\n",
        "    sum      = 1\n",
        "\n",
        "    for _ in range(n - 1):\n",
        "        previous, current = current, previous + current\n",
        "        sum += current * current\n",
        "\n",
        "    return sum % 10\n",
        "\n",
        "\n",
        "a = int(input())\n",
        "\n",
        "fibonacciSumsSquares(a)\n"
      ],
      "execution_count": null,
      "outputs": [
        {
          "output_type": "stream",
          "text": [
            "73\n"
          ],
          "name": "stdout"
        },
        {
          "output_type": "execute_result",
          "data": {
            "text/plain": [
              "1"
            ]
          },
          "metadata": {
            "tags": []
          },
          "execution_count": 46
        }
      ]
    },
    {
      "cell_type": "code",
      "metadata": {
        "colab": {
          "base_uri": "https://localhost:8080/"
        },
        "id": "UGJhRxb4Njex",
        "outputId": "575bfda3-c7a3-4499-fb52-9e916049eb15"
      },
      "source": [
        "def fiboSumSquares(n):\n",
        "   anterior, actual = 0, 1\n",
        "   n = n%60 \n",
        "   if (n == 0): \n",
        "       return 0\n",
        "   elif (n == 1): \n",
        "       return 1\n",
        "   else:\n",
        "       for _ in range(2,n+1):\n",
        "           anterior, actual= actual, (anterior + actual)%60\n",
        "       return actual\n",
        "\n",
        "\n",
        "if __name__ == '__main__':\n",
        "    n = int(input())\n",
        "    print(fiboSumSquares(n)*fiboSumSquares(n+1)%10)"
      ],
      "execution_count": 25,
      "outputs": [
        {
          "output_type": "stream",
          "text": [
            "1234567890\n",
            "0\n"
          ],
          "name": "stdout"
        }
      ]
    },
    {
      "cell_type": "markdown",
      "metadata": {
        "id": "jf6K1708TkjK"
      },
      "source": [
        "![imagen.png](data:image/png;base64,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)"
      ]
    }
  ]
}