{
  "nbformat": 4,
  "nbformat_minor": 0,
  "metadata": {
    "colab": {
      "name": "dhlavadogAlgorithmicToolboxWeek6",
      "provenance": []
    },
    "kernelspec": {
      "name": "python3",
      "display_name": "Python 3"
    },
    "language_info": {
      "name": "python"
    }
  },
  "cells": [
    {
      "cell_type": "markdown",
      "metadata": {
        "id": "2HqGEwMFkOrF"
      },
      "source": [
        "# **6.1 - Maximum Amount of Gold**"
      ]
    },
    {
      "cell_type": "code",
      "metadata": {
        "id": "_JPt_dqSkHnw"
      },
      "source": [
        "\n",
        "import numpy\n",
        "\n",
        "def maxGold(W, n, items):\n",
        "\n",
        "    value = numpy.zeros((W+1, n+1))\n",
        "    for i in range(1, W+1):\n",
        "        for j in range(1, n+1):\n",
        "            value[i][j] = value[i][j-1]\n",
        "            if items[j-1]<=i:\n",
        "                temp = value[i-items[j-1]][j-1] + items[j-1]\n",
        "                if temp > value[i][j]:\n",
        "                    value[i][j] = temp\n",
        "\n",
        "    return (int(value[W][n]), value)\n",
        "\n",
        "def printItems(value, items, i, j, arr):\n",
        "   \n",
        "    if i == 0 and j == 0:\n",
        "        arr.reverse()\n",
        "        return arr\n",
        "    if value[i][j] == value[i][j-1]:\n",
        "        arr.append(0)\n",
        "        return printItems(value, items, i, j-1, arr)\n",
        "    else:\n",
        "        arr.append(1)\n",
        "        return printItems(value, items, i-items[j-1], j-1, arr)\n",
        "        \n",
        "if __name__ == '__main__':\n",
        "    W, n               = [int(i) for i in input().split()]\n",
        "    item_weights       = [int(i) for i in input().split()]\n",
        "    max_weight, Matrix = maxGold(W, n, item_weights)\n",
        "    bool_vector      = printItems(Matrix, item_weights, W, n, [])\n",
        "    optimal = [str(j) for i, j in enumerate(item_weights) if bool_vector[i]]\n",
        "    print(f\"Weights in knapsack of capacity {W}: {' '.join(optimal)}\")"
      ],
      "execution_count": null,
      "outputs": []
    },
    {
      "cell_type": "markdown",
      "metadata": {
        "id": "jXdvSvxXl-Jn"
      },
      "source": [
        "# **6.2 - Partioning Souvenirs**"
      ]
    },
    {
      "cell_type": "code",
      "metadata": {
        "colab": {
          "base_uri": "https://localhost:8080/"
        },
        "id": "ofYeOr5FmF3T",
        "outputId": "3dcf3dba-efb2-4170-fdeb-3580f9a1ccbc"
      },
      "source": [
        "import numpy\n",
        "\n",
        "# Discrete Knapsack problem without repetition\n",
        "def partitions(W, n, items):\n",
        "    \"\"\" Finds if number of partitions having capacity W is >=3\n",
        "    (int, int, list) -> (int) \"\"\"\n",
        "    count = 0 \n",
        "    value = numpy.zeros((W+1, n+1))\n",
        "    for i in range(1, W+1):\n",
        "        for j in range(1, n+1):\n",
        "            value[i][j] = value[i][j-1]\n",
        "            if items[j-1]<=i:\n",
        "                temp = value[i-items[j-1]][j-1] + items[j-1]\n",
        "                if temp > value[i][j]:\n",
        "                    value[i][j] = temp\n",
        "            if value[i][j] == W: count += 1\n",
        "\n",
        "    if count < 3: print('0')\n",
        "    else: print('1')\n",
        "\n",
        "if __name__ == '__main__':\n",
        "    n = int(input())\n",
        "    item_weights = [int(i) for i in input().split()]\n",
        "    total_weight = sum(item_weights)\n",
        "    if n<3: \n",
        "        print('0')\n",
        "    elif total_weight%3 != 0: \n",
        "        print('0')\n",
        "    else:\n",
        "        partitions(total_weight//3, n, item_weights)\n",
        "        "
      ],
      "execution_count": 11,
      "outputs": [
        {
          "output_type": "stream",
          "text": [
            "13\n",
            "1 2 3 4 5 5 7 7 8 10 12 19 25\n",
            "1\n"
          ],
          "name": "stdout"
        }
      ]
    },
    {
      "cell_type": "markdown",
      "metadata": {
        "id": "FqjLE6IVmb_3"
      },
      "source": [
        "# **6.3 - Maximun Value of an Arithmetic Expression**"
      ]
    },
    {
      "cell_type": "code",
      "metadata": {
        "colab": {
          "base_uri": "https://localhost:8080/"
        },
        "id": "SxUyIqH4mpCV",
        "outputId": "9b90a732-6712-4e01-d832-892e25207f3d"
      },
      "source": [
        "import math\n",
        "def calc(a, b, op):\n",
        "  \n",
        "    if op == '+':\n",
        "        return a + b\n",
        "    elif op == '-':\n",
        "        return a - b\n",
        "    else:\n",
        "        return a * b\n",
        "\n",
        "\n",
        "def MinAndMax(M, m, i, j, operators):\n",
        "\n",
        "    min_value = math.inf\n",
        "    max_value = -math.inf\n",
        "    for k in range(i, j):\n",
        "        a = calc(M[i][k], M[k+1][j], operators[k])\n",
        "        b = calc(M[i][k], m[k+1][j], operators[k])\n",
        "        c = calc(m[i][k], M[k+1][j], operators[k])\n",
        "        d = calc(m[i][k], m[k+1][j], operators[k])\n",
        "        min_value = min(min_value, a, b, c, d)\n",
        "        max_value = max(max_value, a, b, c, d)\n",
        "    return min_value, max_value\n",
        "\n",
        "\n",
        "def get_maximum_value(operands, operators):\n",
        "\n",
        "    n = len(operands)\n",
        "    m = [[None for x in range(n)] for x in range(n)]\n",
        "    M = [[None for x in range(n)] for x in range(n)]\n",
        "\n",
        "    for i in range(n):\n",
        "        m[i][i] = operands[i]\n",
        "        M[i][i] = operands[i]\n",
        "\n",
        "    for s in range(1, n):\n",
        "        for i in range(0, n-s):\n",
        "            j = i + s\n",
        "            m[i][j], M[i][j] = MinAndMax(M, m, i, j, operators)\n",
        "\n",
        "    return M[0][n-1]\n",
        "\n",
        "\n",
        "if __name__ == \"__main__\":\n",
        "    expression = input()\n",
        "    operators, operands = [], []\n",
        "\n",
        "    for i in expression:\n",
        "        if i in ['+', '-', '*']:\n",
        "            operators.append(i)\n",
        "        else:\n",
        "            operands.append(int(i))\n",
        "\n",
        "    print(get_maximum_value(operands, operators))"
      ],
      "execution_count": 12,
      "outputs": [
        {
          "output_type": "stream",
          "text": [
            "5-8+7*4-8+9\n",
            "200\n"
          ],
          "name": "stdout"
        }
      ]
    },
    {
      "cell_type": "markdown",
      "metadata": {
        "id": "CN0EWR_IoN_z"
      },
      "source": [
        "![imagen.png](data:image/png;base64,iVBORw0KGgoAAAANSUhEUgAAA7EAAADsCAYAAACi2yHtAAAgAElEQVR4nO3dbVBUV4I+cD5YZVWsmnyypjJTs11QrGVGozEx40SNlrWp1U2ZqcnuPybZMslKjC9xVidM2l5gOrSgCMq0mmqmou0awgojM4yElQRDglkGM4RZcVVURkwnInTzIsiLNqab1uf/oecc7r19+4V3rj6/qi5i39v3nHvuDdynz7nnxoGIiIiIiIjIIOImuwJEREREREREsWKIJSIiIiIiIsNgiCUiIiIiIiLDYIglIiIiIiIiw2CIJSIiIiIiIsNgiCUiIiIiIiLDYIglIiIiIiIiw2CIJSIiIiIiIsNgiCUiIiIiIiLDYIglIiIiIiIiw2CIJSIiIiIiIsNgiCUiIiIiIiLDYIglIiIiIiIiw2CIJSIiIiIiIsNgiCUiIiIiIiLDYIglIiIiIiIiw2CIJSIiIiIiIsNgiCUiIiIiIiLDYIglIiIiIiIiwzB0iDWZTDCZTJNdDSIiIiLScezYMZhMJiQnJ+suX7duHUwmE9auXQu/3z/BtXtwHT9+HCaTCevWrZvsqhCNyLiG2MuXL8ugqXzt3r17TLbPEEtERERGpHeNNH/+fBQWFo5LedeuXcPGjRvhdrvHZfvhiBD75ptvhizbvXs3EhMTUVxcPKF1miq2bNkij/3JkycntOyJCLEjOec++ugjPPvss0hISIDJZMKcOXMe2PODIpuQEJuQkIAnnnhCvhwOx5hsnyGWiIiIjEh7jTR//nx5XXP06NExL89qtcJkMuHy5ctjvm0aPr/fj0cffVSGtYnuEZ2IEDuSc27Lli1ISEjAkiVLsHr1atk+Z86cGbd6kjFNSIh95plnwq5TWFiIOXPmwGQyYfbs2di9e7dqOMkXX3yBRYsWyV/szz77rPxGR7yXl5eHxMREmEwmLF++HF1dXfLzeXl5qj8MixYtwp/+9Kfx22kiIiKiKPSukd555x1VsBBDbZUj2LTviTBSXFyMNWvWyGCcnJwsr6f27t0rw4B4HT9+XNUbrK2X8r3jx49jyZIl8n293rFw12t6Ycnv92Pz5s3y2k27vVj2ySh+9rOfISEhAdXV1ar3xT5u3boVCxYsQEJCAnp7e0OWO51O2QaJiYnIy8sLWefzzz9HcnIyEhIS5HnR1dWFNWvWyOOuvf4Vn127di3+7d/+TXf7zc3NWL16tTxOiYmJ2Lx5szwG2uOYmJiI119/Hbdv3w57zgGAx+NR1e3ZZ5/FX//6VwDAwMAABgYGZB3E+X7ixImxOiR0n5jUEJufnw+TyYTHH38cu3fvxtKlS2EymWC1WgEAn3/+ueqX4ZIlS/DUU0/Jz4tfagkJCXjxxRfl/0QvvfSSXGf//v1YuHAhNm7ciBdeeAEmkwmPPvqo4X4JEhER0f0jUogVQ2+HE2JFZ8CLL74o/33w4EEAQHp6Oh599FGYTCb867/+KzZu3Ij//d//jTnEnjx5ErNnz8bGjRvx6quvyuXXrl0DEPl6TS/EijrOnj1bNXRU9EDHsk9GIdpd27v+0ksvyQC6devWkHVEGyQkJGDhwoVYvXq1bIPPP/9ctc7jjz8ul4nOoKeeekp+QfDss8/KbdXW1qo+azKZQrYv1vH7/Zg7dy5efPFFbNy4EXPnzoXJZML+/fsBBDuKTCYTfvrTn2Ljxo1YvXo1Vq5cCSD8Oaes2+uvvy7DtzbEA4DT6URCQgJWrFjB63YKMSn3xIphBc8884zqf5be3l6YTCYsWLAAwNAv6pSUFLlN5UkstifuI/jTn/4k/ycNZ/Hixao6EBEREU007XBiMSpNGVKGE2KVX9CnpKSowjAwdM2lvP6JNcRqrV27FiZFz1qk6zVtiFXutwgtYh0R6GPdJyPweDz48ssvVe/19vbK4Ob3++WXAC+++KJcR7TBggULZBuIe2i3bt2qWichIQFffPFFyGeVHT+7d+9WHYdYtq9VXFys2obY5ooVK+DxeELW1zvnRLnKfRXHNj8/X74nzimr1coAS7om5Z7YpqYmAEMhVO8FDJ384pekllhXnNx6v3gLCwuxZMmSkCENDLFEREQ0WfS+6F+yZIkqjAwnxK5du1auow0swOhC7BdffIFnn31WjngTL3F9Ful6TRtitYEVAJqamlRlxrpPRiCOl7LdxUhEMXLQ7/fL61Rxy5xeD7Y2ROoFQkC/rU6cOKH7RUGk7Xs8Hrz++uuqL1iUyy9fvqw6J9asWaMKs3rnnKib3kuc0263W3e/iJQmdTixOGkPHjyI3/3ud6oXEHuI1ZYn3jt69ChMJhPmzp2LoqIitLa2sieWiIiIJl0s84bohVjRC6oNscowMpoQe/78edV7Z86cgelvHRIHDhxAa2srXnnllQkJsdH2aarr6uqSQ3CVM/Q+99xzYYOcGKo7nBCrbZORhlgRrsV7Ytjvm2++if/7v//D4cOHQz7T19eH5ORkGWbnzp0re9gjhdgXXngh5Nr/woULo2tweqBMaogVJ7d2cgDRsyrugVAOT+nr65P/HS3Eiv9R3nnnHbldMT6fIZaIiIgmSywh9s033wx7HTPSECtu4QLU4VFMirl//37dQPnzn/9cfm7lypWq0Brpem04w4kj3UdrtBDr8XjkvarKIdDXrl2T7ascpSh6O8U9pcMZTqxtk0jDiUXvr972xZcmYvvhzg1RnnKY78DAABYsWKC6xtY755RfYig/rx0y/OWXX+L69evDa3R6oExqiFWO5X/11VexceNGLF++XP5iFt8amUxDEwUo73eNFmLFDedz587Fxo0bsXTpUjlcgyGWiIiIJkssIVaMKDP9bWjlwoUL5b+HG2LFREKPP/44XnzxRfm4Q9HbJt5X3n4FDE3alJCQgI0bN2LlypVyHRFiI12v6dVPhCUxaZPYnpgZ934IsSLAae8vFUHwueeeU70vhtCKa1TlxEvKyZlMpqHHzYQLsX6/HytWrIDJFDppk3ZSKLH95cuXy3+L0Cm+MHnhhRfw6quvyt5W5T2xixYtkhN+ift8Ra+z3jmnrNvSpUvlZxMTE2X9leccUTiT/oid4uJi1ZTs8+fPx3//93+rlotvpxISErBmzRq5LFqI9fv9IVOzi6ESDLFEREQ0WWK5RgIgZ281mYL3HIrrmOGG2PPnz8sQnJiYiP/8z/8MeX/27NkoLi6WISNcHcREmsrhw+Gu10bziB2jhlhxbJU9oYIIt8pH2QhimPHu3btV9wWLa1lxfIRIz3qN9RE72kf4KCdXErNSizB8/vx5LFiwQJb3u9/9TnW/7KJFi+Rkq0D4c66rqwuvv/666tE8q1evlp+7du0aEhMT8fTTTw+n2ekBM64hloiIiIjoQSJCrBgaDASH2+rN4BtOpIBKRAyxRERERERjRjxf1WQyYfny5XJ4tXYIcSQMsUSRMcQSEREREY0hl8uluo91yZIlcDqdMX+eIZYoMoZYIiIiIiIiMgyGWCIiIiIiIjIMhlgiIiIiIiIyDIZYIiIiIiIiMgyGWCIiIiIiIjIMhlgiIiIiIiIyDIZYIiIiIiIiMgyGWCIiIiIiIjIMhlgiIiIiIiIyDIZYIiIiIiIiMgyGWCIiIiIiIjIMhlgiIiIiIiIyjHELsfHx8bBarXC5XPzJn/zJn/zJn/zJn/fdzx/96EdwuVx88cWXAV9kbOyJJSIiIiIiIsMYtxC7f//+8do0ERER0aTjtQ4R0eRgTywREREREREZBntiiYiIiEaA1zpERJODPbFERERERERkGOyJJSIiIhoBXusQEU0O9sQSERERERGRYbAnloiIiGgEeK1DRDQ52BNLREREREREhsGeWCIiIqIR4LUOEdHkYE8sERERERERGQZ7YomIiIhGgNc6RESTgz2xREREREREZBjsiSUiIiIaAV7rEBFNDvbEEhERERERkWE88D2x2dnZSEpKmuxqTBnx8fG4fPnyZFeDiIhoyjPKtQ5RLPx+P1asWIHdu3dPdlWIojJ0T+yVK1fw/PPPY9asWYiPj8djjz2GDz74YFjbMGqITU1NRWlp6ZhvdzQh9osvvsDTTz+N+Ph4JCYmYt26dfD7/XK53+/Hyy+/jMTERCQmJuKtt95SLY/2ebGNV199FcuXL4+pTjU1NZg1a1ZMbfXb3/4WP/7xjxEfH48VK1bA5XLJZfHx8bqv4Zw7n376KR577DHEx8fjJz/5CWpqalTL9bZPREQ0VXk8HqxZswYJCQkwmUxYvnw5zp8/H7Ke3+9HQkICrl27hr/+9a9YvXo1EhMTYTKZMGfOHBw5cmQSav9g2r17N2bPng2TyYSEhAQ8++yzcLvdcpnVap3kGhLFZtx7YrOzs5GdnR1x3VjW0ZObm4uioiIMDAwAAOrr65GYmIjq6uqYt2HEEOv3+7Fq1aopFWL9fj/+3//7f7h48SIAYGBgAM8//zzeeecduc62bduQlJSEgYEBDAwM4JVXXsG2bdti/nxXVxdWrlyJn//85zGF2A8//BBPPPEEli9fHrWtqqqqMG/ePFy/fh0AcPjwYcybNy8kRCutWrUKR48ejVoPAGhubsasWbNQV1cHIBjYZ82ahebmZgBAU1MTEhMTY9oWERFNDQ96T6zVakVhYaH8W2m32zF37tyQ9Y4ePYrnnnsOALB3714UFhaqrt0SEhKGde1GI3Pw4EHMnTsX33zzDQCgu7sbRUVFk1wropEZ157Y7Oxs2aOUmZmpu05mZqZcZyRBVitaYDlw4IDsuX355ZeRmZmpCrFdXV14+eWXZW+gtrdQyev1Yt26dXJ72t61mpoa/OQnP8HChQuRmJiI+Ph4LFy4EBUVFaqyxLKXX34ZXV1d8vPKnsFZs2YhOTlZ7mNiYiIee+wxLFy4EHl5eTFtT6utrQ0rVqxAfHw8fvzjH+P3v/895syZowqxYh+U68SqtLRUhk2/34/ExEQZ2gDg8uXLSExMDNu+ys8DwS8tDhw4gMuXL0cNsb29vfinf/ontLW1ISkpKeScOHr0KBITE+W3j0lJSThw4IBqnUjnUm1tLRYtWhQx5CplZ2fjF7/4heq9pKQkec7Hsk9ERERTnclkCvky/MUXX4z4pe8zzzyD48ePj3fVHnjr1q2LOFSYx4GMZFx7YnNzc1VDI7VBVhlg4+PjkZubO+LyBgYGcPjwYTzxxBPo7e3VXae0tBTz5s1DW1sbgOC3f7NmzVKF2NWrV8t6DgwMYM2aNbK3UM9nn30mg8zhw4dVQWTOnDky1A4MDGDRokWoqqpSlZWamgq/3w+/34/MzEwsX74cfr8f9fX1mDNnjqxrX18frly5Ij+rF7AibU/P8uXL5b76/X4kJSUhMTFR/vERvYf19fUAgsO358yZo9qHSA4cOIBXXnkFAHDhwgXMmTMnZJ1IPb/KzysNN/Dphdiqqio888wz8lxZunRpyH4pQ6bWK6+8EhJ6I3nttdfw29/+VvWechRAVVUVQywRkcE86D2xWteuXUNCQoLqOkzvPWFgYABOpxOPP/542Gs3Gjt5eXl45plnwnZwMMSSkYz7PbHhguxYBdjS0lK5jRUrVsjhqHrWrFkTEkrEEFcgGI6efPJJ1fITJ06EvBfO5cuX5X2Myv8WlKFIDH3WBswnn3wSVVVVqK2tVYVYLW2IjbY9rdra2pD13W63KlRmZ2cjNTVV9bmNGzeGvKent7cX8+bNk2Vre1XD7Ue4zyuNRYjV0gvT4Yaaix7k4fzB1dtPZZucOHFC9uiL+7udTmfM2yciIppsb775JrZu3ap6b//+/diyZYvqvePHj8NkMsn7aCNdu9HY8fv9WLt2LRISEvD666+HtDtDLBnJhMxOrA2yy5YtG7MeWMHv96OyshJz5szBiRMndNfRCxLKoKIMxLFMsDMwMIB33nkHCxYskC+xrt/vx5w5c1BbWyv/vWjRInnPR7hQpwy67777LmbNmoV169aF/KLR7kss21MKt74yzCUlJY1oMiO/34+VK1eqyh1OiNX7vNJkh9hf/OIXePfdd2MuH4geYoFgb7tw8eJFzJs3L+Z7bomIaOKxJ3bI3r17sWLFipAv05966imcPHlS9zPi2u3RRx8Ne+1GY+/69etITk5GYmIi/vmf/1keM4ZYMpIJm51YG2THMsAqZWZmYuPGjbrLYgmxwwlHq1evxvbt2+XkBNre1/Lycnkf7IIFC1TDSWMNnX19fcjOzsasWbNUkxxNVIgd7n3Kfr8fP//5z0OGYF++fDnscOILFy5E/bx2W2MdYpcvX647nFg7BL65uTnk3l4t5b3g4nxISkrSHU782muvhd2O9n5tIiKiqSgvLw8//elPQ4apnjlzBgsWLIj6+YyMDLz55pvjVT0Ko6urC0899ZT8wpwhloxkQp8Tqw2yYx1ggeCjZ8KFWL3hxKmpqTIo1NfXIz4+PuZhotreu6qqKlWIfeutt1BQUKD72XCTGj355JO630Y2Nzertq0NscPdnt5w4t7eXtU+vfvuu1izZo1u/fWIAKo33DiWiZ0ifV5pPEJsrBM7vfvuuyMKltEmdtIT6VwmIqLJx57YYIBdsWKF7n2WW7dujemRLSkpKQyxk0Q52RNDLBnJhD8nVgTZsQiwf/jDH9Dd3S3/XVlZicTExLATDx09elQ1sdOVK1cwb968kImdXnnlFTm0s7u7G2fPntXd3pNPPonDhw8DCM70u3LlSlXQ3L9/vyq0z5o1S9UbJ3pylRMxhZvx9uOPP8a8efNUn9X2Eg5newCwaNEi1cRO27dvD5nYKTExEYcPH5bbaGpq0u2FFAE03CzUQPRH7ET7vDAeEzvF8oid3t5eJCYmyomuhiPaI3ZKS0vx7bffyvWjnctERESTTQRYMSJNye/349FHH8W1a9dU7//+978PuXZLSEjA559/Pu71fdDl5+ejtbVV/lu0/ZkzZwAwxJKxTGhPrKD85TUaW7dulY+giY+PxzPPPIMvvvgi4mfE0Nz4+Hj87Gc/w4cffqgKsQMDA1i3bp18TM2Pf/zjsPvy6aefyvLF43XEkNmjR4/i+eefV/1iv379OhITE9HU1CTLUj4S5/nnn5ffZFZXV+Oxxx6T+/b000+rwlNtba0sW9Qv0vb0uFwu1SN2PvzwQ/zDP/yDqne5vr5eriPqIX7ZKUW6n1gESL/fj7feeguJiYlITEzEyy+/LENiLJ8XxiLEFhcXqx6xAwT/sIo2ffrpp1XDnIHgbMmrV6+OuVwt5eOKHnvsMXz66ady2dGjR1XHO5ZzmYiIJteD3hMrJmfSvtatW4fjx49j5cqVIZ/5xS9+gdmzZ8t1lyxZwr93EyRa2zPEkpFMeE/sgyIpKUn3mapLly4N+0gZIiIiIiIiimxSemIfBO+88w6SkpJUw1H1hqgSERGRMT3o1zpERJOFPbHjxO/3Y926dZg1axYWLlyIWbNm4eWXXw773FciIiIiIiKKjj2xRERERCPAax0iosnBnlgiIiIiIiIyDPbEEhEREY0Ar3WIiCYHe2KJiIiIiIjIMNgTS0RERDQCvNYhIpoc7IklIiIiIiIiw2BPLBEREdEI8FqHiGhysCeWiIiIiIiIDIM9sUREREQjwGsdIqLJwZ5YIiIiIiIiMgz2xBIRERGNAK91iIgmB3tiiYiIiIiIyDDGLcTGx8fLbyhH+tNqtcLlcvEnf/Inf/Inf/Inf065nz/60Y/gcrn44osvA77I2NgTS0RERERERIbBEEtERERERESGwRBLREREREREhsEQS0RERERERIbBEEtERERERESGwRBLREREREREhsEQS0RERERERIbBEEtERERERESGwRBLREREREREhsEQS0RERERERIbBEEtERERERESGwRBLREREREREhsEQS0RERERERIbBEEtERERERESGwRBLREREREREhsEQawC1tbW4cePGZFeDYtDc3IwdO3bAbDbD4XCMWzl1dXXIysqKuE5WVhbq6urGrQ5ERERE4cRvb0P+ae+YbjP5WC9W2bvGdJtxSa042+yftPIBdVu1993FvspbquVrnTcxbX0rpq1vxcfn7yD9oz74Bu+NeT2A4bXHZLqvQmxFRQWsVivMZjPMZnPU9QOBAN5///2oYUCrrq4OZrMZ+fn5EZc7nc5hbTecnJwcVFVVjcm2JkJTUxPMZjM6OzsnuyrDYrPZRr0Nu92Ozz77DEDw/NLj8/lQWFioOlfT09PxySefxFwOQywREU0FlZWVSE1NhdlsRnZ2Ntrb20PWCQQCsFgsquuCxsZGpKSkTJm/U2eb/YhLasWcX3dEXB6/vW1MyrvpvTtm25qqtCF25jbPqLf5IITYwq+8eHjLUFt9dPYOZm7zwOu7B9/gPVzrCmD6BjcuuscnaDLETrAjR44gJycHXV2xnVj9/f3Yu3cv9u/fP6IQm5ubC4vFAq839BumvLw8ZGRkjFmINZr8/HxkZGSgpKRksqsSs7a2tpi++IjGbDajpaUl7PIbN27AarXiyJEj6OgI/qH0+Xy4cuUKzp07F3M5DLFERDTZGhoaYLVa5bXXqVOnYLVaQ77Erampgd1ul/+urq5Genr6lPo7dbbZj797pw0zNrtR0+QLWb6poAePvN02ZsGz6KuBByrEXnIPIi6pddTbfBBC7ESVGQ5D7ARyuVywWCzo7++P+TPl5eWoqKhAS0uLbhjIyMhAYWGh7mdFgHA4HKiurlYt6+zsRFpaGkpLS1Uh1uVyYc+ePbLnzeFwyPpWVlYiKytL/tIPBALIysqS29b+kjebzaitrZXffO7YsQMXL15EYWEhUlJS5PaVAVsvXCm3W1ZWhqKiIjgcDpjNZlgsFuTn5+Pq1avIzMyE2WxGampq1D82Xq8XFosF9fX1SEtLC1k+krr39/fD4XDAYrGEtJ2ou/YLA23IM5vNcLlcqn2prKwEAFy6dAk2mw1msxk2mw02mw0eT+i3hYFAAPn5+bKeym+cv/76a1XPargwa7fbw/bgx1qW3v75fD557FJSUlBWVga73T5lLg6IiOj+43Q6UVFRoXpPL5g6HA7U1NQACF4n5ObmoqenB06nc8r8nRI9rW98cBNvfHBTtcw3eA8zNrthLe0LCZ6Hqm/je1vciEtqxUOb3DhUfVsua++7i9lp7YhLakVcUit+kNyGP3/tw4HPbuF7W9yYtr4VM7d5ZA9l8rFeJB/rReaJfkzf4JZl1TT5VNtZursT7X13ZTlxSa1o77uLxP8IrqMXhuK3t6HuGx+W7u5EXFIrko/1yjqK96atb8ULjm7VMNW1zpuYvmFo/2xlfbKu2mCVf9qrah8RzMrPB3sS45KG9lf0Iq47chMPbdJvPwCwlvbJ8pfu7sTWInW5ov7T1uu3jdb17oBsJ1HejM1uVWg72XAH3/+lR7dO0QLlyYY7+EFym2zPt/6rB0D0Y6gMscp2fG5/l9y3uKRWWbY2aCrPw+kb3Hjv81sxlRtLe0Q6x0Vdop1/4+G+CLHl5eU4ePDgiD4bLsQ6HI6wwztFgKipqUFubq5qWUVFBYqLi0OC1Y0bN3D9+nUAwYDicDhQVlYml9vtdpSXlwMIhjLl/ZR6ITYnJwc+X/CbwpKSElgsFhQVFSEQCMDn8yEnJ0e1/VhCrAiYANDT04O0tDRYrVa43W4AwXtzLRZL2GGyYv/z8vIABL8I0PYujqTudrsdxcXFCAQCCAQCKC0tVYX+WEPs3r170dMT/GXicrlgNpvR3d0NIHgeROuJLSgoQF5enqz76dOnkZaWpgrUkXpiu7u7Yx5mHa0s7f45nU44nU7ZJqWlpbBYLFPm4oCIiO4/u3btQkNDg+o9p9Op+hve2dkZduTaVAyxNU0+zNjsVgW5kjMDWJzVGRLSPjp7Bw9v8eB8S/CC39U5iIe3eORF/rLsTmz+W4gBgD9/7ZPb1W4LCAakH/6qDavsXfD6hsq/2jGIM9eCZfgG72FxVqcMoUAwRJjMbTjV+F3Y/Yvf3oYf/qoNvz2lDiDz0zuwtSi4La8vuO2X3g9eGzmqbiN+e5usS0ffXTR6BmVdYw2xyvbVKj9/R27/ZMMdTFvfqmqjh7d4cL07eG1z+qoP0ze4VeXOT+/AGx/chG8wONR2a1Ev4re3hb1fNH57m9xf3+A9rLIHQ6IIbU3tg5i+wY3TV4PXX+db/Jix2Y2Pzt4Ju99CU/sgpq1vlW3c470r6x7tGIYLseHKVIbYj84G200c/46+uzKoxlJupPaIdo6LukQ7/8bDfRFinU6n7EVMTU2VvYiRwpYQLsRGIgJEIBBAWloaXC6XXJaRkQGXy6UbrJS0yzs7O+W9ISkpKapgpBdilf9ubm6G2WxW/YHQbj+WEKtth4MHD6K4uFj1XrThsrm5ufLbVmWgHWndRS+79ljabDb5hzPWEKv9Q6nc/2ghVvQwa/fd4XDIHl1RTrj2qa+vh8ViCVvGcMpS7p/X69UtNy0tbcpcHBAR0f1H72+P9m9yRUVF2BFIUzHEAsCcX3fAUTV0kb4suxOOqtsh4WJZtjoQAMC+yluYnx68XWhxljrEKoULsTO3eaJO2KMNNXFJrdhTcSvCJ4Jh5bXD6h7ms83+kPtUC7/yyvf2Vd5ShdhIddDbp1hCrJYynGkDFwC89H63LLemyacKvcLMbR4ZOpWqLn8Xsv61roCqzORjvSE98c8f6JLvRQqxmwp6Yh72q93OaEKs3nkYS7mxtEe0c1zUJdr5Nx7umxCr7DEMBAKw2+0x3ZM5mhALBHvMRDkNDQ2yZ1b7S9ztdmPfvn2wWq2w2WxITU0NCV6VlZUwm80hQ5T1Qqzyj4ZeABtJiNXWR/ttarjtCNrA2dnZGdLzONy6h7v3U1m3WENspP2PFmLDLY+lnZV10oZYMQmYcjKyWMpS7l+49afSvUZERHT/iSXE6o3KEqZqiM080Y9l2cFrl2tdAdkzGymk6W2n0TOI7//Sg+//0oM9FbdUYTBciNULQedb/Fhg68D3trgxc5sHD21yh4TYaPBC/t4AACAASURBVPcw6tU1/7RXDjPVvoBgz9xK+w1M3+DGWudNuDoHI9Z1uCHWN3gP1tI+zNzmkfum3Be9OivL1WtDAFhl79INdeHWV5a5yt6l2x6izEghNly5QPRjOJoQG+l+2kjlxtIe0c5x7foT6b4JsdqwVVdXh5ycHABQhQTteqMNsS6XC2lpafIeRtFTpvwlLobSXLhwQW5DL3gVFxfDYrGgtLRU9f54hdhdu3aNaYjNz89XtbVem09UiK2trZ1yIdbj8aiGMIfbPkMsEREZQVZWlu5wYnEd43K5Is78P1VD7E3vXUxb34qm9kFYS/vk8Nrhhljhs0vfYa61Aw9v8ciL/VhDrBiierx+IOx6owmxsUwu5eoclI94yf6kP2xdD1XfHlaIfen9bizO6kSPV31/72SH2Ei9miMJsbEcw/EIsdHKZYidAsrLy0OGqlRXV6tmwgtntCEWgJyEKSUlRQ6LjRbECgoKVOGnqalJ9ianpaWhublZtf2xDrFiCOpYhVgxBFY5tBoIzkiYkZEx4rq3tLSEHU5cX18ftu7FxcVjGmLF4wH0hviKe5nDlaMtU/slhbb8WMqKZTixzWabMhcHRER0/4k2sZNytFq4z0+Vv1PaC3MRSB55u03OVqy96NcLLfsqb+HvU0IfMwQA/5LXLdePNcTqraccUguMPMTWNPkQl9SKm97wEyEplZwZmlFZr65vfHBzWCFWWyftUFa94cRvfHBTlnu22R92OHHhV6GhTm/47E3vXVWZmwp6sDgr/NwlkUKssm5KsRzD0YRYvXaKpdxY2iOWc5whdhT6+/uRkpIiQ01PTw9ycnJU9yqGM5qJnYSKigp5H66gDFZNTU2wWCxyUqGLFy8iJSVFLg8EAsjIyJCTKlVXV6smLhqLEKsMT4FAAEVFRaqJf0YbYvUmuRJlpaWlyaFEI6m73W6XEz+JiZ0yMjJk+9TV1cFqtcr2dbvdsFqtwwqxYtIl5ZcHWgUFBXA4HKrJlrSzYkcLsc3NzfJcuXVr6P6BS5cuqdohWlnaczAvL081sdNnn33GiZ2IiGhcRXrEjvj7H2kyw6kcYkvODGDaevVzY/Umdpqx2R0y6c2+ytD7A72+e3jc1iF7MsVnlTPF6oUVETTEBEEnzt0JmdxopCEWCE6MtCx7qDe0o+8uvrwa+oghAEj9Yx8WZnTItlBOunS+xY+Ht3jChlgRUOu+Gdr24qxOeZ+u13cPy7I7VZMKOapu65ahndjptcPqiZ0eeTv8xE6PvK2eyOi1wzdDJnaatj54j6fYxoUWP652hJ/QShCh+sMvvXKfzrf4YzqGowmxhV95MWOzW06s1OMNTsAVS7nR2iOWc5whdpSUj08RjxiJRbgQu3PnzqiP2BFEL6RySI02iBUWFqoeEVNbWyuXFxcXh8yu7HA4ZOgcixDb3Nwc8ngZh8MxZiFWOaGTVklJiZzgaSR1F4+PEe23b9++kMcpKR/Rs2fPHpw9e3ZYIRYAjh8/DovFAovFEvYRO8pysrOzQ0JvtBALAO3t7di3b5/cjtlsRnp6umpG6mhlac9B8Rgicf6XlJTgyJEjU+bigIiI7k/Kx+ZlZmbKv1V1dXW6X24rTeUQCwQv8DNPDF1v6PVsFX01oHr8yG8+Hbq4X7Hnhnw8irivVBmuVtpvyGVA+IAkhvKKR6Qcqr49ZiHW67uHf/zNUD0f2uRG2vHgY3RyT96Sj7+JS2rF7LR2GYhEvcTjb2anteN3dQNhQywA/HthD6atDz565qLbj7pvfCGPspmf3qHal+RjvbKMJ3Z0YF/lLdW+e333VI/YWWDriPiInUbPoOqRMqJXUVnm6as+uY54NNKfrvhkfYbziJ0NH/bItop0DEcTYoHQR+zknrwVU7mxtEekc1yvLhPlvgmxREREREREdP9jiCUiIiIiIiLDYIglIiIiIiIiw2CIJSIiIiIiIsNgiCUiIiIiIiLDYIglIiIiIiIiw2CIJSIiIiIiIsNgiCUiIiIiIiLDYIglIiIiIiIiw2CIJSIiIiIiIsNgiCUiIiIiIiLDYIglIiIiIiIiw2CIJSIiIiIiIsNgiCUiIiIiIiLDYIglIiIiIiIiw5jSIba3t5cvvvjiiy+++OKLL7744mtMX2RsUzrEEhERERERESkxxBIREREREZFhMMQSERERERGRYTDEEhERERERkWEwxBIREREREZFhMMQSERERERGRYTDEEhERERERkWEwxBIREREREZFhMMQSERERERGRYTDEEhERERERkWEwxBIREREREZFhMMQSERERERGRYTDEEhERERERkWEwxBIREREREZFhMMQSERERERGRYTDETnHt7e2oq6uLuM6pU6fg9XontMwHWW1tLW7cuDHZ1SAiIiKasuK3tyH/9NhdnwJA8rFerLJ3jek245JacbbZP2nlA+q2au+7i32Vt1TL1zpvYtr6Vkxb34qPz99B+kd98A3eG/N6AMNrj8l0X4XYiooKWK1WmM1mmM3miOtevHgRmZmZMJvNsFgsOHToEAKBQEzl1NXVyTLMZjNSU1Nx6NAh9Pf3j6r+Xq8XWVlZqvfKy8uxf/9++e/i4uKQgGmxWHDp0qVRlR2pzLHW2Ngo295sNiM9PR1nzpwZt/LGWk5ODqqqqia7GkRERFNCdXU1LBYLWlpadJcHAgFYLBZ0dnbK9xobG5GSkjJlvjQ/2+xHXFIr5vy6I+Ly+O1tY1LeTe/dMdvWVKUNsTO3eUa9zQchxBZ+5cXDW4ba6qOzdzBzmwde3z34Bu/hWlcA0ze4cdE9PkGTIXaCHTlyBDk5Oejqin5iBQIBvPfee7h+/ToAwOfzwW63o7CwMKay6urqVGGzq6sL+/fvh91uH1nl/6a+vj4kxGrrnZubO2V+4Y9Ed3c3LBYLTp8+jUAgAJ/PhytXroT9w0dERERTV0lJCXbu3AmbzRb2b3lNTY3qGqm6uhrp6enIysqaMtc0Z5v9+Lt32jBjsxs1Tb6Q5ZsKevDI221jFjyLvhp4oELsJfcg4pJaR73NByHETlSZ4TDETiCXywWLxTKqnlBtMM3IyAgbarXrAkBzc7Oq97e+vl7V05ufny97euvq6uB0OnHu3DmkpqbCbDajuroaVqsVFosFNpsNNpsNAFBWVgan0wkAyMrKgsVigdVqhc1mw6effgoAMJvNqj8ctbW1skc6NTUVtbW1qrqazWa4XC5Zv9TUVFRWVsrlyjJjWT8QCCA/Px9Wq1VV7nvvvRdT22kpe2pTUlJQVlamWq73R8/pdKKsrAx1dXWy7ZRsNpv8TGNjI3bs2KHbPmVlZSgtLUVhYSFSUlJgNpuxZ88e1bmlLF/vWALB80HZ27xnzx709vZG3G8iIiIjaWlpwXvvvQefz4esrKywIdbhcKCmpgZAcNRZbm4uenp64HQ6p1SIjUtqxRsf3MQbH9xULfMN3sOMzW5YS/tCgueh6tv43hY34pJa8dAmNw5V35bL2vvuYnZaO+KSWhGX1IofJLfhz1/7cOCzW/jeFjemrW/FzG0e2UOZfKwXycd6kXmiH9M3uGVZNU0+1XaW7u5Ee99dWU5cUiva++4i8T+C6+iFofjtbaj7xoeluzsRl9SK5GO9so7ivWnrW/GCo1s1THWt8yambxjaP1tZn6yrNljln/aq2kcEs/LzwZ7EuKSh/RW9iOuO3MRDm/TbDwCspX2y/KW7O7G1SF2uqP+09fpto3W9OyDbSZQ3Y7NbFdpONtzB93/p0a1TtEB5suEOfpDcJtvzrf/qARD9GCpDrLIdn9vfJfctLqlVlq0NmsrzcPoGN977/FZM5cbSHpHOcVGXaOffeLgvQmx5eTkOHjw4qm1UVFQgLy9P/tvhcOCTTz7RXVcviDU1NcFisch/Nzc3y15hn8+HjIwMVfDJyMjA3r17MTAwEHG72kCpF+CUIbahoQFWqxVutxtAsJfYarWqgprZbMbevXvR0xP8H8vlcsFsNqO7u1u3zGjrV1ZWwuFwyJB+6tSpsL3S3d3dMJvNaGxs1F3e2dmJlJQUXLx4EQAwMDCAnJwclJaWRmwDEWIDgQDS0tLQ1NQklzU1NSEtLQ2BQEBu3+VyAQDcbjfS0tLQ0NAg991iseDUqVMAggH94MGDKCgo0C0/3LHMyMjA6dOn5Ta+/fZb3f0lIiK6H4QLsZ2dnbBYLLpzd0zFEFvT5MOMzW5VkCs5M4DFWZ0hIe2js3fw8BYPzrcEL/hdnYN4eItHXuQvy+7E5r+FGAD489c+uV3ttoBgQPrhr9qwyt4Fr2+o/KsdgzhzLViGb/AeFmd1yhAKBEOEydyGU43fhd2/+O1t+OGv2vDbU+oAMj+9A1uLgtvy+oLbfun94PWdo+o24re3ybp09N1Fo2dQ1jXWEKtsX63y83fk9k823MG09a2qNnp4iwfXu4PXl6ev+jB9g1tV7vz0DrzxwU34BoNDbbcW9SJ+e1vY+0Xjt7fJ/fUN3sMqezAkitDW1D6I6RvcOH012Bt/vsWPGZvd+OjsnbD7LTS1D2La+lbZxj3eu7Lu0Y5huBAbrkxliP3obLDdxPHv6Lsrg2os5UZqj2jnuKhLtPNvPNwXIdbpdKKoqAgOhwOpqakhPZ/ReL1eWK1WGWSi0YbNjo4O5OTk4MiRIxHrKHoUxT212p7jsQixeXl5IT2X1dXVqlBpNptDtqHcrl6IjbS+ct+A4Dezke5JFvfOZGdn4y9/+YvqOJWUlKjKBoZCaKQ2UNYhPz8fxcXFcllxcTHy8/PlvimXAcGh6OK9srKykGOgPS7aEKt3LG02mwyxRERE97twIbaiokL+DdaaiiEWAOb8ugOOqqGL9GXZnXBU3Q4JF8uy1YEAAPZV3sL89OB9tYuz1CFWKVyInbnNE3XCHm2oiUtqxZ6KWxE+EQwrrx1W9zCfbfaH3Kda+JVXvrev8pYqxEaqg94+xRJitZThTBu4AOCl97tluTVNPlXoFWZu88jQqVR1+buQ9a91BVRlJh/rDemJf/5Al3wvUojdVNAT87Bf7XZGE2L1zsNYyo2lPaKd46Iu0c6/8XDfhFhl72MgEIDdbkdJSUnUzwYCAezduzck+EWindjJarWioqJCFcYuXryIPXv2yKG/ymGx4YbUjkWI1VuuDZXa4cfaz+mF2EjrV1RUwOFwyGXV1dVRJ4by+Xw4deoUduzYgfT0dDQ3NwMIDcSx7qPycw0NDaohxTabTX5B4XQ6VcdOvMT+avcdiB5i9Y5lY2MjUlNTdYM6ERHR/SZciM3IyMC5c+d0PzNVQ2zmiX4syw5OQnWtKyB7ZiOFNL3tNHoG8f1fevD9X3qwp+KWKgyGC7F6Ieh8ix8LbB343hY3Zm7z4KFN7pAQG+0eRr265p/2ymGm2hcQ7Jlbab+B6RvcWOu8CVfnYMS6DjfE+gbvwVrah5nbPHLflPuiV2dluXptCACr7F26oS7c+soyV9m7dNtDlBkpxIYrF4h+DEcTYiPdTxup3FjaI9o5rl1/It03IVYbfOrq6pCTkwMAqrCiXC8QCGD//v2qoaKxiHZfZ0NDA9LS0uTEUdo63m8hVkw4lZqaivT09JB7SKP58MMP5VDukYbYgwcPqj5ns9nQ1NSEpqYmVaANt31hrEIsEGyXv/zlL8jKysLOnTvH9DFIREREU4leiHW5XLrzVAhTNcTe9N7FtPWtaGofhLW0Tw6vHW6IFT679B3mWjvw8BaPvNiPNcSKIarH6wfCrjeaEBvL5FKuzkH5iJfsT/rD1vVQ9e1hhdiX3u/G4qxO9HjV9/dOdoiN1Ks5khAbyzEcjxAbrVyG2CmgvLw8ZKiKdgitlgiw2qGlsYgWYvWCkN1un5AQqxfSqqurZaDXrq+33eGGWI/Hg127do24t1G533ptp73fWK8NbDabar9LSkpQXFyM4uJiVY98SUmJqtdYayxDrJLRZ5UmIiKKRC/EFhQURBwVN1VDLDAUSB55u03OVqy96NcLLfsqb+HvU9p1y/iXvG65fqwhVm895ZBaYOQhtqbJh7ikVtz0hp8ISankzNCMynp1feODm8MKsdo6aYey6g0nfuODm7Lcs83+sMOJC78KDXV6w2dveu+qytxU0IPFWZ0hnxUihVhl3ZRiOYajCbF67RRLubG0RyznOEPsKPT39yMlJQX19fUAgJ6eHuTk5Khm0FUSAVY5WZDWcCd2UqqurkZGRgZ8vuAvvVOnTsFisUQNsaIHV9mLqQ1Vdrs9pN7aiZ3S0tJCJnaqrq7WXV8YTYgdGBjAu+++q+rxzs7O1u2NbWhowLfffivbpqurCzk5OfKPnJgAQjuxk/LLBqfTCafTKUPzZ599pmpfYOjbX5vNJidxUm7/1KlT8vMejwc3btzQ3Xdg9CG2p6cHGRkZY/osXyIioqlEG2LFRIvKZ8NqTeUQW3JmANPWq58bqzex04zN7pBJb/ZVht4f6PXdw+O2DtmTKT6rnClWL6yIoCEmCDpx7k7I5EYjDbFAcGKkZdlDvaEdfXfx5dXQRwwBQOof+7Awo0O2hXLSpfMtfjy8xRM2xIqAWvfN0LYXZ3XK+3S9vntYlt2pmlTIUXVbtwztxE6vHVZP7PTI2+EndnrkbfVERq8dvhkysdO09cF7PMU2LrT4cbUj/IRWggjVH37plft0vsUf0zEcTYgt/MqLGZvdcmKlHm9wAq5Yyo3WHrGc4wyxo6R8BIzeY1mUtPe0Kl/il+nOnTuH9YgdpUAgAIfDoXq8TkVFRdQQCwCHDh2S+wCEhqqmpib5KBcRsrUhs76+XvWom//5n/9RlTGWITYQCGDnzp04e/asav+Liop0J7o6c+YM0tPTVfcTi1mFBe2x/MMf/qDaRn9/P/bs2SOXFxYWori4WPdRPHrt7HK5kJ2dLeuQmZmJr7/+WnffgZGF2F27dsntp6amoqKiImQdIiKi+4U2xNbV1SE3NzfiZ6ZyiAWCF/iZJ4a+kNfr2Sr6akD1+JHffDp0cb9izw35eBRxX6kyXK2035DLgPABSQzlFY9IOVR9e8xCrNd3D//4m6F6PrTJjbTjwcfo5J68JR9/E5fUitlp7TIQiXqJx9/MTmvH7+oGwoZYAPj3wh5MWx989MxFtx913/hCHmUzP71DtS/Jx3plGU/s6MC+yluqfff67qkesbPA1hHxETuNnkHVI2VEr6KyzNNXfXId8WikP13xyfoM5xE7Gz7skW0V6RiOJsQCoY/YyT15K6ZyY2mPSOe4Xl0myn0TYmlytLS0YNeuXSHv19bWhoRBIiIiIiKi0WKIpVHp7u5WPXcViD6cm4iIiIiIaKQYYmnUzp07hx07dsBqtcoZivmMVCIiIiIiGg8MsURERERERGQYDLFERERERERkGAyxREREREREZBgMsURERERERGQYDLFERERERERkGAyxREREREREZBgMsURERERERGQYDLFERERERERkGAyxREREREREZBgMsURERERERGQYDLFERERERERkGAyxREREREREZBhTOsT29vbyxRdffPHFF1988cUXX3yN6YuMbUqHWCIiIiIiIiIlhlgiIiIiIiIyDIZYIiIiIiIiMgyGWCIiIiIiIjIMhlgiIiIiIiIyDIZYIiIiIiIiMgyGWCIiIiIiIjIMhlgiIiIiIiIyDIZYIiIiIiIiMgyGWCIiIiIiIjIMhlgiIiIiIiIyDIZYIiIiIiIiMgyGWCIiIiIiIjIMhlgiIiIiIiIyDIZYIiIiIiIiMgyGWAOora3FjRs3Jrsa4y4rKwt1dXWTWofCwkJYLBZYLBZcuXJlUusSSbRzoq6uDllZWRNYo/AelPM3nP7+flRXV092NYiIiCZU/PY25J/2juk2k4/1YpW9a0y3GZfUirPN/kkrH1C3VXvfXeyrvKVavtZ5E9PWt2La+lZ8fP4O0j/qg2/w3pjXAxhee0ym+yrEVlRUwGq1wmw2w2w2h10vEAigoqIC6enpMJvNsFgs2LdvH/r7+2Mqp66uDmazGfn5+RGXO53OEe2HVk5ODqqqqsZkW+MlNzdX90K9s7MTZrMZnZ2dUbcx2SG2oaEBNpsNPp8PgUBgQst2OBxhzyc92nPCZrOplk9WiK2urkZZWZnqvZGev1lZWfL/ZfGaKsF8OOrr62G1Wie7GkRE46a6uhoWiwUtLS26ywOBACwWi+paoLGxESkpKZP+5bVwttmPuKRWzPl1R8Tl8dvbxqS8m967Y7atqUobYmdu84x6mw9CiC38youHtwy11Udn72DmNg+8vnvwDd7Dta4Apm9w46J7fIImQ+wEO3LkCHJyctDVFf3E6u/vx6FDh9DREfxFFQgE4HQ6sX///pjKqqurQ25uLiwWC7ze0G+Y8vLykJGRMWYh1ggqKipgt9t138/NzY1pG5MdYsvKyiblmHV2dsJmsyElJUX3fIqmra0t5EubyQqxR44cCQmxIzXZ5wMREUVXUlKCnTt3wmazhQ2xNTU1qmuE6upqpKenT6nf82eb/fi7d9owY7MbNU2+kOWbCnrwyNttYxY8i74aeKBC7CX3IOKSWke9zQchxE5UmeEwxE4gl8sFi8USc0+qHu1Ff0ZGBgoLCyOu63A4QnofOzs7kZaWhtLSUlUgcrlc2LNnj+xRcjgcsr6VlZXIysqSvX+BQABZWVly29pf8mazGbW1tUhNTYXZbMaOHTtw8eJFFBYWIiUlRW5fGYjMZnPIHxfldsvKylBUVASHwyF7p/Pz83H16lVkZmbCbDYjNTU17B+b7u5u3R5X5X589913OHTokKzjjh070NjYqFsfvRDW0tISEta07aDcnlZ/fz8cDgcsFkvIMTh8+LB8P1Iv+rFjx2R5qampqK2tlcvKyspQWlqqOg579uyJel6WlJSgoKAAeXl5qKysVC0rKytDWVkZKisrkZKSIttEtNWlS5dgs9lgNpths9lgs9ng8Xhk+1VUVMi6ZGZmorm5WbXtkRzzcG1+8OBBpKSkIDU1FTabTf7/oz1/Gxsb5fYtFgv++Mc/6rZLpIsbu92O0tJS+e/m5mbV74CsrCxcvHgR2dnZuseqrq4OTqcT586dk/sSbf+A4P+rYllKSgqOHj0qlymPe2pqKk6ePCnLUp7LgUAA+fn5ct3s7Gy0t7er6nbw4EFVWdpjR0Q0FbS0tOC9996Dz+dDVlZW2BDrcDhQU1MDAPB6vcjNzUVPTw+cTueUCrFxSa1444ObeOODm6plvsF7mLHZDWtpX0jwPFR9G9/b4kZcUise2uTGoerbcll7313MTmtHXFIr4pJa8YPkNvz5ax8OfHYL39vixrT1rZi5zSN7KJOP9SL5WC8yT/Rj+ga3LKumyafaztLdnWjvuyvLiUtqRXvfXST+R3AdvTAUv70Ndd/4sHR3J+KSWpF8rFfWUbw3bX0rXnB0q4aprnXexPQNQ/tnK+uTddUGq/zTXlX7iGBWfj7YkxiXNLS/ohdx3ZGbeGiTfvsBgLW0T5a/dHcnthapyxX1n7Zev220rncHZDuJ8mZsdqtC28mGO/j+Lz26dYoWKE823MEPkttke771Xz0Aoh9DZYhVtuNz+7vkvsUltcqytUFTeR5O3+DGe5/fiqncWNoj0jku6hLt/BsP90WILS8vx8GDB0f8+Y6ODuTk5OCTTz6R7zkcDtW/lcRFaU1NTUgvY0VFBYqLi0N69W7cuIHr168DCF7EOhwOVY+V3W5HeXk5gGC4cDgccpleiM3JyYHPF/ymsKSkBBaLBUVFRQgEAvD5fMjJyVFtP5YQK8IxAPT09CAtLQ1WqxVutxtA8OLeYrGEHWrrcDhQUVEh/93S0hLSW33hwgX5+VOnTqku7ocbYhsaGmC1WtHTE/wFcfHixZDhSkp2ux3FxcUIBAIIBAIoLS1VfXkQS0/spUuXZLs3Njaq2qOsrAwWiwWnTp0CEDzOBw8eREFBQdjtBQIBpKWlweVy6Z5PZWVl2LlzJ5xOpyxX21Z64b6urg4Wi0XuLxA8T5TfhI/kmEdrc6fTGdITq6xrZ2cnLBYLTp8+DQAYGBiQ29KKFGI7OzuRkpKClpYWBAIB5OTkqL5QysrKgtVqlSMzxBddDQ0Nsn0yMjKwd+9eDAwMyM9F2j+Xy4W0tDS5bGBgQLZTTU0NsrKy5DG6deuWDKbac1l8YSHWPX36NNLS0mQAj+XYERFNNeFCrPi9rzfSaCqG2JomH2ZsdquCXMmZASzO6gwJaR+dvYOHt3hwviV4we/qHMTDWzzyIn9Zdic2/9fQ37g/f+2T29VuCwgGpB/+qg2r7F3w+obKv9oxiDPXgmX4Bu9hcVanDKFAMESYzG041fhd2P2L396GH/6qDb89pQ4g89M7sLUouC2vL7jtl97vBgA4qm4jfnubrEtH3100egZlXWMNscr21So/f0du/2TDHUxb36pqo4e3eHC9O/i38PRVH6ZvcKvKnZ/egTc+uAnfYHCo7daiXsRvbwt7v2j89ja5v77Be1hlD4ZEEdqa2gcxfYMbp68G/0afb/FjxmY3Pjp7J+x+C03tg5i2vlW2cY/3rqx7tGMYLsSGK1MZYj86G2w3cfw7+u7KoBpLuZHaI9o5LuoS7fwbD/dFiHU6nbJHKTU1VfYoRbuvUXnPXXl5ecz3QYqLUmUAETIyMuByuaIGIu1ycVFeV1eHlJQUVe+dXohV/ru5uRlms1n1B0K7/VhCrDY0Hjx4EMXFxar39LYjiAt5oaSkBHl5eWHbQBu+hhtinU5nSE+4NswIIsRoj7HNZpPBZiTDiZXtodeG0Yb1njt3DhkZGQCgez6VlZXBZrOF1DvWEKv8nHa9kRzzaG0eLcSWlJTE3MZ698Qqt11ZWYmcnByUl5ervvQRn9XWo7i4WH6hIO5b1/aSR9q/pqYmVYhVqq6uVoVYJeU54PV6de8bczgcshc+lmNHRDTVhAuxFRUVYed8mIohFgDm/LoDnwYyqwAACjJJREFUjqqhi/Rl2Z1wVN0OCRfLstWBAAD2Vd7C/PTg7WqLs9QhVilciJ25zRN1wh5tqIlLasWeilsRPhEMK68dVvcwn232h9ynWviVV763r/KWKsRGqoPePsUSYrWU4UwbuADgpfe7Zbk1TT5V6BVmbvPI0KlUdfm7kPWvdQVUZSYf6w3piX/+QJd8L1KI3VTQE/OwX+12RhNi9c7DWMqNpT2ineOiLtHOv/Fw34RYZe9RIBCA3W5HSUlJTJ+/desWnE4ncnJyYlpfeVFaUFAgy2loaJA9adpA5Ha7sW/fPlitVthsNqSmpoZczFdWVsJsNodcROuFWOUfCr0L3JGEWG199AJJpBCrvUDPyMhQ1dvn86GwsBDp6enyNZoQqxdytEFHCBcmlfsYLcSKCcFsNps8jtoQq/18tBCbl5enqm9+fr7qj324OsUSYqO130iOebQ2jxZi9ZaHE8u9Una7XfdWAr3PVldXy//Hwx2XaPtXUlKClJQUHDp0SI6sAILnhhgqX1hYqLo3X1lWuDCqPBaxDqUnIppKwoXYjIwMnDt3TvczUzXEZp7ox7Ls4Aija10B2TMbKaTpbafRM4jv/9KD7//Sgz0Vt1RhMFyI1QtB51v8WGDrwPe2uDFzmwcPbXKHhNho9zDq1TX/tFcOM9W+gGDP3Er7DUzf4MZa5024Ogcj1nW4IdY3eA/W0j7M3OaR+6bcF706K8vVa0MAWGXv0g114dZXlrnK3qXbHqLMSCE2XLlA9GM4mhAb6X7aSOXG0h7RznHt+hPpvgmx2gvjuro6ecEaLeAAwYtQs9kMjyf6zGnKi0wxxFDc5yZ6U5QXpWIozYULF+Q29AJEcXExLBaL6l4/YPxC7K5du8Y0xIrPlJSUyF4rZW+S3W5HUVGR7K0abk+s6HHWWz+asQixBQUFcDgcquGnowmxYuZm7Us7RHmqhdhIbT6RITYQCCAjIwMWiyXkftHRhNho59TAwADKyspkYFXq6uqSj2kSMzIzxBLRg0AvxLpcrpDZ85Wmaoi96b2Laetb0dQ+CGtpnxxeO9wQK3x26TvMtXbg4S0eebEfa4gVQ1SP1w+EXW80ITaWyaVcnYPyES/Zn/SHreuh6tvDCrEvvd+NxVmd6PGq7++d7BAbqVdzJCE2lmM4HiE2WrkMsVNAeXl5yFCV6urqYd1D5vV6RxRigaHJi5Szy0a7KC0oKFAFiKamJtmbnJaWprooH48QK/Z3rEPsuXPnkJWVheLi4pBjov1sQ0PDsEJsdXW1av28vLyQoa/hiPtz9YYT19fXA4geYrXHQUxmNdIQG264dUZGhpwAY6qF2GhtHi3EFhcXD2s4caSLG7Gt2tpa1b3N4rPaL4Py8/NVw4n1jstwzinxJYQe8f+BtizxmAm94cTinniGWCIyIr0QqxytpmeqhlhgKJA88nabnK1Ye9GvF1r2Vd7C36e0Q8+/5HXL9WMNsXrrKYfUAiMPsTVNPsQlteKmN/xESEolZ4ZmVNar6xsf3BxWiNXWSTuUVW848Rsf3JTlnm32hx1OXPhVaKjTGz5703tXVeamgh4szgr/WMhIIVZZN6VYjuFoQqxeO8VSbiztEcs5zhA7Cv39/UhJSZFhpKenBzk5OSEzvQotLS24cuWKvOgdGBhAXl6eKvTGMrGTUFFRIe/DFZQBoampCRaLRTVZTEpKilwuepTEBDvi/jpRv7EIscqL+kAggKKiIlgsljEPseK+TqvVKu81FWw2m5z0qKenB3v37g0bYkXoFPeHimOqndhJ2cMdCATw7bffhn1MjegJVk7slJGREfPETg6HA0VFRQCCQ6Pz8vJUgWS4ITbcECvlY4liCbEiTCu/+BivEButzQsKCkImWdM7rn/5y18ABNtR3AYQaR+1RE+/GEbscDhUoTWWiZ30jstwzqmzZ8+Gff7rxx9/LB/ZpTexk8PhUE3spBwSzRBLREakDbHieiDSc+KncogtOTOAaevVz43Vm9hpxmZ3yKQ3+ypD7w/0+u7hcVuH7MkUn1XOFKsXVkTQEBMEnTh3J2Ryo5GGWCA4MdKy7KHe0I6+u/jyauj8DgCQ+sc+LMzokG2hnHTpfIsfD2/xhA2xIqDWfTO07cVZnfI+Xa/vHpZld6omFXJU3dYtQzux02uH1RM7PfJ2+ImdHnlbPZHRa4dvhkzsNG198B5PsY0LLX5c7Qg/oZUgQvWHX3rlPp1v8cd0DEcTYgu/8mLGZrecWKnHG5yAK5Zyo7VHLOc4Q+wouVwu+diOlJSUiEMWv/76a+zatUsO30xNTUV+fr5qUpadO3dGfcSOIO4FVYY2bUAQQwzFo11qa2vl8uLi4pALf+VF+ViE2ObmZtVjUyorK+FwOMY8xALBi3S94UPKx5mIR5ekpaXJ5dr91D5ipLGxMWQ/6+vrsWPHDnks9+zZg+7ubt16+Xw+1SN29u3bp7qXMlqIbW5ulmWJR7bY7fYRhVjlhE5a4nyKNEGYtq2OHz8Oi8UCi8WiesSO0liEWCBym9+4cUMuE1/qRHvEzh/+8AfddtC7P1V8uaP80gcIfpGlHFaclZWFjz/+OOIjdsJ9uRBu/y5dugSr1Srfz8zMlF+yfPHFF/JcFZ8RX1rpPWJH+Tie7OzsYX8BQUQ01WhDbF1dXdTnxE/lEAsEL/AzTwxdJ+j1bBV9NaB6/MhvPh26uF+x54Z8PIq4r1QZrlbab8hlQPiAJIbyikekHKq+PWYh1uu7h3/8zVA9H9rkRtrx4GN0ck/eko+/iUtqxey0dhmIRL3E429mp7Xjd3UDYUMsAPx7YQ+mrQ8+euai24+6b3whj7KZn96h2pfkY72yjCd2dGBf5S3Vvnt991SP2Flg64j4iJ1Gz6DqkTKiV1FZ5umrPrmOeDTSn674ZH2G84idDR/2yLaKdAxHE2KB0Efs5J68FVO5sbRHpHNcry4T5b4JsUREwnDulyYiIiIiY2GIJaL7DkMsERER0f2LIZaI7jsMsURERET3L4ZYIiIiIiIiMgyGWCIiIiIiIjIMhlgiIiIiIiIyDIZYIiIiIiIiMgyGWCIiIiIiIjIMhlgiIiIiIiIyDIZYIiIiIiIiMgyGWCIiIiIiIjIMhlgiIiIiIiIyDIZYIiIiIiIiMgyGWCIiIiIiIjIMhlgiIiIiIiIyjHENsS6Xiy+++OKLL7744osvvvjia0q9yNjYE0tERERERESGwRBLREREREREhsEQS0RERERERIbBEEtERERERESGwRBLREREREREhsEQS0RERERERIbBEEtERERERESGwRBLREREREREhsEQS0RERERERIbBEEtERERERESGwRBLREREREREhsEQS0RERERERIbBEEtERERERESGwRBLREREREREhsEQS0RERERERIbBEEtERERERESGwRBLREREREREhsEQS0RERERERIbBEEtERERERESGwRBLREREREREhsEQS0RERERERIbx/wGm948XxaHLMAAAAABJRU5ErkJggg==)"
      ]
    }
  ]
}