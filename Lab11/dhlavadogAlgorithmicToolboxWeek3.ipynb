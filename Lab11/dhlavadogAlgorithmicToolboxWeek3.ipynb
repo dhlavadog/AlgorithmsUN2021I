{
  "nbformat": 4,
  "nbformat_minor": 0,
  "metadata": {
    "colab": {
      "name": "dhlavadogAlgorithmicToolboxWeek3.ipynb",
      "provenance": []
    },
    "kernelspec": {
      "name": "python3",
      "display_name": "Python 3"
    },
    "language_info": {
      "name": "python"
    }
  },
  "cells": [
    {
      "cell_type": "markdown",
      "metadata": {
        "id": "iH8x1U8x5o9Q"
      },
      "source": [
        "# **3-1: Money Change**"
      ]
    },
    {
      "cell_type": "code",
      "metadata": {
        "colab": {
          "base_uri": "https://localhost:8080/"
        },
        "id": "DCqw78op3OPl",
        "outputId": "2edbcbf2-4519-4548-c874-e8d5ecafcde4"
      },
      "source": [
        "import sys\n",
        "\n",
        "def get_change(m):\n",
        "    i=0\n",
        "    while(m>=0):\n",
        "        m=m-10\n",
        "        i=i+1\n",
        "    m=m+10\n",
        "    i=i-1\n",
        "    if m==0:\n",
        "        return(i)\n",
        "    while(m>=0):\n",
        "        m=m-5\n",
        "        i=i+1\n",
        "    m=m+5\n",
        "    i=i-1\n",
        "    if m==0:\n",
        "        return(i)\n",
        "    while(m>=0):\n",
        "        m=m-1\n",
        "        i=i+1\n",
        "    i=i-1\n",
        "    return(i)\n",
        "\n",
        "if __name__ == '__main__':\n",
        "    m = int(input())\n",
        "    print(get_change(m))"
      ],
      "execution_count": 1,
      "outputs": [
        {
          "output_type": "stream",
          "text": [
            "28\n",
            "6\n"
          ],
          "name": "stdout"
        }
      ]
    },
    {
      "cell_type": "markdown",
      "metadata": {
        "id": "28o-ADLa6IZo"
      },
      "source": [
        "# **3-2: Maximun Value of the Loot**"
      ]
    },
    {
      "cell_type": "code",
      "metadata": {
        "colab": {
          "base_uri": "https://localhost:8080/"
        },
        "id": "oREU3n2E9ltN",
        "outputId": "9c9ca5bf-f44b-4628-c763-7bcfd3710ae2"
      },
      "source": [
        "n, W = [int(i) for i in input().split()]\n",
        "lst = []\n",
        "\n",
        "if W == 0:\n",
        "    print(0)\n",
        "    quit()\n",
        "\n",
        "for _ in range(n):\n",
        "    v, w = [int(i) for i in input().split()]\n",
        "    if v == 0:\n",
        "        continue\n",
        "    lst.append((v, w))\n",
        "\n",
        "lst.sort(key = lambda x: x[0]/x[1], reverse = True)\n",
        "\n",
        "total_value = 0\n",
        "\n",
        "for v,w in lst:\n",
        "    if W==0:\n",
        "        print(total_value)\n",
        "        quit()\n",
        "    amt = min(w, W)\n",
        "    total_value += amt*v/w\n",
        "    W -= amt\n",
        "\n",
        "print(total_value)"
      ],
      "execution_count": 13,
      "outputs": [
        {
          "output_type": "stream",
          "text": [
            "1 10\n",
            "500 30\n",
            "166.66666666666666\n"
          ],
          "name": "stdout"
        }
      ]
    },
    {
      "cell_type": "markdown",
      "metadata": {
        "id": "Fa8HLpSp6SmH"
      },
      "source": [
        "# **3-3: Car Fueling**"
      ]
    },
    {
      "cell_type": "code",
      "metadata": {
        "colab": {
          "base_uri": "https://localhost:8080/"
        },
        "id": "7Mna1C8i7FkU",
        "outputId": "0f6bdd99-547f-451e-d79c-23ff31ec6f7c"
      },
      "source": [
        "import sys\n",
        "\n",
        "\n",
        "def compute_min_refills(distance, tank, stops):\n",
        "    contador=0\n",
        "    i=0\n",
        "    anterior=0\n",
        "    while i<len(stops):\n",
        "        if stops[i]-anterior>tank:\n",
        "            contador=contador+1\n",
        "            i=i-1\n",
        "            anterior=stops[i]\n",
        "            if stops[i+1]-anterior>tank:\n",
        "                return -1\n",
        "            \n",
        "        i=i+1\n",
        "    return contador\n",
        "\n",
        "if __name__ == '__main__':\n",
        "    d, m, _, stops=950,400,4,[200,375,550,750]\n",
        "    #d, m, _, *stops = map(int, sys.stdin.read().split())\n",
        "    if d != stops[len(stops)-1]:\n",
        "        stops.append(d)\n",
        "    print(compute_min_refills(d, m, stops))\n"
      ],
      "execution_count": 12,
      "outputs": [
        {
          "output_type": "stream",
          "text": [
            "2\n"
          ],
          "name": "stdout"
        }
      ]
    },
    {
      "cell_type": "markdown",
      "metadata": {
        "id": "YxBmFFmI6Xo6"
      },
      "source": [
        "# **3-4: Maximun Advertisement Revenue**"
      ]
    },
    {
      "cell_type": "code",
      "metadata": {
        "colab": {
          "base_uri": "https://localhost:8080/"
        },
        "id": "TmwhnaqFnExJ",
        "outputId": "6a987244-b0b6-4e18-f889-0bbc897de934"
      },
      "source": [
        "n = int(input())\n",
        "a = [int(i) for i in input().split()]\n",
        "b = [int(i) for i in input().split()]\n",
        "a.sort()\n",
        "b.sort()\n",
        "ans = sum([a[i]*b[i] for i in range(n)])\n",
        "print(ans)"
      ],
      "execution_count": 2,
      "outputs": [
        {
          "output_type": "stream",
          "text": [
            "3\n",
            "1 3 -5\n",
            "-2 4 1\n",
            "23\n"
          ],
          "name": "stdout"
        }
      ]
    },
    {
      "cell_type": "markdown",
      "metadata": {
        "id": "A082NdiX6hny"
      },
      "source": [
        "# **3-5: Collecting Signatures**"
      ]
    },
    {
      "cell_type": "code",
      "metadata": {
        "colab": {
          "base_uri": "https://localhost:8080/"
        },
        "id": "yoNVXfG4nn40",
        "outputId": "1d5c8309-5063-4553-8cb2-bb3ec84a4fa6"
      },
      "source": [
        "n = int(input())\n",
        "lst = []\n",
        "\n",
        "for _ in range(n):\n",
        "    a, b = [int(i) for i in input().split()]\n",
        "    lst.append((a,b))\n",
        "\n",
        "lst.sort(key = lambda x: x[1])\n",
        "\n",
        "index = 0\n",
        "coordinates = []\n",
        "\n",
        "while index < n:\n",
        "    curr = lst[index]\n",
        "    while index < n-1 and curr[1]>=lst[index+1][0]:\n",
        "        index += 1\n",
        "    coordinates.append(curr[1])\n",
        "    index += 1\n",
        "print(len(coordinates))\n",
        "print(' '.join([str(i) for i in coordinates]))"
      ],
      "execution_count": 4,
      "outputs": [
        {
          "output_type": "stream",
          "text": [
            "4\n",
            "4 7\n",
            "1 3\n",
            "2 5\n",
            "5 6\n",
            "2\n",
            "3 6\n"
          ],
          "name": "stdout"
        }
      ]
    },
    {
      "cell_type": "markdown",
      "metadata": {
        "id": "USa-gLQm6n0E"
      },
      "source": [
        "# **3-6: Maximun Number of Prizes**"
      ]
    },
    {
      "cell_type": "code",
      "metadata": {
        "colab": {
          "base_uri": "https://localhost:8080/"
        },
        "id": "2V-ncHgc9MHQ",
        "outputId": "81fa2c27-ea8a-4cab-b8e1-3c5f840b8fdb"
      },
      "source": [
        "# Uses python3\n",
        "import math\n",
        "import sys\n",
        "def suma(n):\n",
        "    return((n*(n+1))/2)\n",
        "    \n",
        "\n",
        "def optimal_summands(n):\n",
        "    n1=math.ceil(((8*n+1)**0.5-1)/2)\n",
        "    summands=[]\n",
        "    for x in range(1,n1+1):\n",
        "        summands.append(x)\n",
        "    try:\n",
        "        summands.remove(suma(n1)-n)\n",
        "    except:\n",
        "        pass\n",
        "    return summands\n",
        "\n",
        "if __name__ == '__main__':\n",
        "    #input = sys.stdin.read()\n",
        "    n = int(input())\n",
        "    summands = optimal_summands(n)\n",
        "    print(len(summands))\n",
        "    for x in summands:\n",
        "        print(x, end=' ')\n"
      ],
      "execution_count": 7,
      "outputs": [
        {
          "output_type": "stream",
          "text": [
            "8\n",
            "3\n",
            "1 3 4 "
          ],
          "name": "stdout"
        }
      ]
    },
    {
      "cell_type": "markdown",
      "metadata": {
        "id": "jJYfel1U6yoa"
      },
      "source": [
        "# **3-7: Maximun Salary**"
      ]
    },
    {
      "cell_type": "code",
      "metadata": {
        "colab": {
          "base_uri": "https://localhost:8080/"
        },
        "id": "wefPlLoCoQnR",
        "outputId": "8aa1bb98-2ef7-4fc4-d416-7c828d5c48f6"
      },
      "source": [
        "n = int(input())\n",
        "lst = [int(i) for i in input().split()]\n",
        "\n",
        "\n",
        "def IsGreaterOrEqual(digit, max_digit):\n",
        "    return int(str(digit)+str(max_digit))>=int(str(max_digit)+str(digit))\n",
        "\n",
        "def largestnumber(lst):\n",
        "    answer = []\n",
        "    \n",
        "    while lst!=[]:\n",
        "        max_digit = 0\n",
        "        for digit in lst:\n",
        "            if IsGreaterOrEqual(digit, max_digit):\n",
        "                max_digit = digit\n",
        "        answer.append(max_digit)\n",
        "        lst.remove(max_digit)\n",
        "\n",
        "    return answer\n",
        "\n",
        "print(''.join([str(i) for i in largestnumber(lst)]))"
      ],
      "execution_count": 9,
      "outputs": [
        {
          "output_type": "stream",
          "text": [
            "3\n",
            "23 39 92\n",
            "923923\n"
          ],
          "name": "stdout"
        }
      ]
    },
    {
      "cell_type": "markdown",
      "metadata": {
        "id": "cuVe9Wcm_xDB"
      },
      "source": [
        "![imagen.png](data:image/png;base64,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)"
      ]
    }
  ]
}