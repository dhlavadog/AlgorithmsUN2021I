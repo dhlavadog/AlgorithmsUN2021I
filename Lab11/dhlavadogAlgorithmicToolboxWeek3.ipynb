{
  "nbformat": 4,
  "nbformat_minor": 0,
  "metadata": {
    "colab": {
      "name": "dhlavadogAlgorithmicToolboxWeek3.ipynb",
      "provenance": []
    },
    "kernelspec": {
      "name": "python3",
      "display_name": "Python 3"
    },
    "language_info": {
      "name": "python"
    }
  },
  "cells": [
    {
      "cell_type": "markdown",
      "metadata": {
        "id": "iH8x1U8x5o9Q"
      },
      "source": [
        "# **3-1: Money Change**"
      ]
    },
    {
      "cell_type": "code",
      "metadata": {
        "colab": {
          "base_uri": "https://localhost:8080/"
        },
        "id": "DCqw78op3OPl",
        "outputId": "2edbcbf2-4519-4548-c874-e8d5ecafcde4"
      },
      "source": [
        "import sys\n",
        "\n",
        "def get_change(m):\n",
        "    i=0\n",
        "    while(m>=0):\n",
        "        m=m-10\n",
        "        i=i+1\n",
        "    m=m+10\n",
        "    i=i-1\n",
        "    if m==0:\n",
        "        return(i)\n",
        "    while(m>=0):\n",
        "        m=m-5\n",
        "        i=i+1\n",
        "    m=m+5\n",
        "    i=i-1\n",
        "    if m==0:\n",
        "        return(i)\n",
        "    while(m>=0):\n",
        "        m=m-1\n",
        "        i=i+1\n",
        "    i=i-1\n",
        "    return(i)\n",
        "\n",
        "if __name__ == '__main__':\n",
        "    m = int(input())\n",
        "    print(get_change(m))"
      ],
      "execution_count": 1,
      "outputs": [
        {
          "output_type": "stream",
          "text": [
            "28\n",
            "6\n"
          ],
          "name": "stdout"
        }
      ]
    },
    {
      "cell_type": "markdown",
      "metadata": {
        "id": "28o-ADLa6IZo"
      },
      "source": [
        "# **3-2: Maximun Value of the Loot**"
      ]
    },
    {
      "cell_type": "code",
      "metadata": {
        "colab": {
          "base_uri": "https://localhost:8080/"
        },
        "id": "_40KUcY182Wa",
        "outputId": "6267e573-3e96-4307-9664-b313e06c8d1d"
      },
      "source": [
        "def loot(t_weight,cost, unit,weight):\n",
        "    count = 0\n",
        "    while t_weight!=0:\n",
        "        c_cost = max(unit)\n",
        "        act_ind = unit.index(c_cost)\n",
        "        c_weight=weight[act_ind]\n",
        "        print(c_cost,c_weight,act_ind)\n",
        "        if c_weight >= t_weight:\n",
        "            count+=t_weight*c_cost\n",
        "            t_weight = 0\n",
        "        elif c_weight<t_weight:\n",
        "            t_weight-=c_weight\n",
        "            count+=(c_weight)*c_cost\n",
        "            cost.pop(act_ind)\n",
        "            unit.pop(act_ind)\n",
        "            weight.pop(act_ind)\n",
        "            print()\n",
        "    return count\n",
        "    \n",
        "    \n",
        "def main():\n",
        "    g1=str(input())\n",
        "    item,cap = map(int,g1.split())\n",
        "    dict={}\n",
        "    cost=[]\n",
        "    weight=[]\n",
        "    unit =[]\n",
        "    for i in range(1,item+1):\n",
        "        g2=str(input())\n",
        "        a,b = map(int,g2.split())\n",
        "        cost.append(a)\n",
        "        weight.append(b)\n",
        "        j = (cost[i-1])/weight[i-1]\n",
        "        unit.append(j)\n",
        "    print(loot(cap,cost,unit,weight))\n",
        "main()"
      ],
      "execution_count": 11,
      "outputs": [
        {
          "output_type": "stream",
          "text": [
            "1 10\n",
            "500 30\n",
            "16.666666666666668 30 0\n",
            "166.66666666666669\n"
          ],
          "name": "stdout"
        }
      ]
    },
    {
      "cell_type": "markdown",
      "metadata": {
        "id": "Fa8HLpSp6SmH"
      },
      "source": [
        "# **3-3: Car Fueling**"
      ]
    },
    {
      "cell_type": "code",
      "metadata": {
        "colab": {
          "base_uri": "https://localhost:8080/"
        },
        "id": "7Mna1C8i7FkU",
        "outputId": "0f6bdd99-547f-451e-d79c-23ff31ec6f7c"
      },
      "source": [
        "import sys\n",
        "\n",
        "\n",
        "def compute_min_refills(distance, tank, stops):\n",
        "    contador=0\n",
        "    i=0\n",
        "    anterior=0\n",
        "    while i<len(stops):\n",
        "        if stops[i]-anterior>tank:\n",
        "            contador=contador+1\n",
        "            i=i-1\n",
        "            anterior=stops[i]\n",
        "            if stops[i+1]-anterior>tank:\n",
        "                return -1\n",
        "            \n",
        "        i=i+1\n",
        "    return contador\n",
        "\n",
        "if __name__ == '__main__':\n",
        "    d, m, _, stops=950,400,4,[200,375,550,750]\n",
        "    #d, m, _, *stops = map(int, sys.stdin.read().split())\n",
        "    if d != stops[len(stops)-1]:\n",
        "        stops.append(d)\n",
        "    print(compute_min_refills(d, m, stops))\n"
      ],
      "execution_count": 12,
      "outputs": [
        {
          "output_type": "stream",
          "text": [
            "2\n"
          ],
          "name": "stdout"
        }
      ]
    },
    {
      "cell_type": "markdown",
      "metadata": {
        "id": "YxBmFFmI6Xo6"
      },
      "source": [
        "# **3-4: Maximun Advertisement Revenue**"
      ]
    },
    {
      "cell_type": "code",
      "metadata": {
        "colab": {
          "base_uri": "https://localhost:8080/"
        },
        "id": "TmwhnaqFnExJ",
        "outputId": "6a987244-b0b6-4e18-f889-0bbc897de934"
      },
      "source": [
        "n = int(input())\n",
        "a = [int(i) for i in input().split()]\n",
        "b = [int(i) for i in input().split()]\n",
        "a.sort()\n",
        "b.sort()\n",
        "ans = sum([a[i]*b[i] for i in range(n)])\n",
        "print(ans)"
      ],
      "execution_count": 2,
      "outputs": [
        {
          "output_type": "stream",
          "text": [
            "3\n",
            "1 3 -5\n",
            "-2 4 1\n",
            "23\n"
          ],
          "name": "stdout"
        }
      ]
    },
    {
      "cell_type": "markdown",
      "metadata": {
        "id": "A082NdiX6hny"
      },
      "source": [
        "# **3-5: Collecting Signatures**"
      ]
    },
    {
      "cell_type": "code",
      "metadata": {
        "colab": {
          "base_uri": "https://localhost:8080/"
        },
        "id": "yoNVXfG4nn40",
        "outputId": "1d5c8309-5063-4553-8cb2-bb3ec84a4fa6"
      },
      "source": [
        "n = int(input())\n",
        "lst = []\n",
        "\n",
        "for _ in range(n):\n",
        "    a, b = [int(i) for i in input().split()]\n",
        "    lst.append((a,b))\n",
        "\n",
        "lst.sort(key = lambda x: x[1])\n",
        "\n",
        "index = 0\n",
        "coordinates = []\n",
        "\n",
        "while index < n:\n",
        "    curr = lst[index]\n",
        "    while index < n-1 and curr[1]>=lst[index+1][0]:\n",
        "        index += 1\n",
        "    coordinates.append(curr[1])\n",
        "    index += 1\n",
        "print(len(coordinates))\n",
        "print(' '.join([str(i) for i in coordinates]))"
      ],
      "execution_count": 4,
      "outputs": [
        {
          "output_type": "stream",
          "text": [
            "4\n",
            "4 7\n",
            "1 3\n",
            "2 5\n",
            "5 6\n",
            "2\n",
            "3 6\n"
          ],
          "name": "stdout"
        }
      ]
    },
    {
      "cell_type": "markdown",
      "metadata": {
        "id": "USa-gLQm6n0E"
      },
      "source": [
        "# **3-6: Maximun Number of Prizes**"
      ]
    },
    {
      "cell_type": "code",
      "metadata": {
        "colab": {
          "base_uri": "https://localhost:8080/"
        },
        "id": "2V-ncHgc9MHQ",
        "outputId": "81fa2c27-ea8a-4cab-b8e1-3c5f840b8fdb"
      },
      "source": [
        "# Uses python3\n",
        "import math\n",
        "import sys\n",
        "def suma(n):\n",
        "    return((n*(n+1))/2)\n",
        "    \n",
        "\n",
        "def optimal_summands(n):\n",
        "    n1=math.ceil(((8*n+1)**0.5-1)/2)\n",
        "    summands=[]\n",
        "    for x in range(1,n1+1):\n",
        "        summands.append(x)\n",
        "    try:\n",
        "        summands.remove(suma(n1)-n)\n",
        "    except:\n",
        "        pass\n",
        "    return summands\n",
        "\n",
        "if __name__ == '__main__':\n",
        "    #input = sys.stdin.read()\n",
        "    n = int(input())\n",
        "    summands = optimal_summands(n)\n",
        "    print(len(summands))\n",
        "    for x in summands:\n",
        "        print(x, end=' ')\n"
      ],
      "execution_count": 7,
      "outputs": [
        {
          "output_type": "stream",
          "text": [
            "8\n",
            "3\n",
            "1 3 4 "
          ],
          "name": "stdout"
        }
      ]
    },
    {
      "cell_type": "markdown",
      "metadata": {
        "id": "jJYfel1U6yoa"
      },
      "source": [
        "# **3-7: Maximun Salary**"
      ]
    },
    {
      "cell_type": "code",
      "metadata": {
        "colab": {
          "base_uri": "https://localhost:8080/"
        },
        "id": "wefPlLoCoQnR",
        "outputId": "8aa1bb98-2ef7-4fc4-d416-7c828d5c48f6"
      },
      "source": [
        "n = int(input())\n",
        "lst = [int(i) for i in input().split()]\n",
        "\n",
        "\n",
        "def IsGreaterOrEqual(digit, max_digit):\n",
        "    return int(str(digit)+str(max_digit))>=int(str(max_digit)+str(digit))\n",
        "\n",
        "def largestnumber(lst):\n",
        "    answer = []\n",
        "    \n",
        "    while lst!=[]:\n",
        "        max_digit = 0\n",
        "        for digit in lst:\n",
        "            if IsGreaterOrEqual(digit, max_digit):\n",
        "                max_digit = digit\n",
        "        answer.append(max_digit)\n",
        "        lst.remove(max_digit)\n",
        "\n",
        "    return answer\n",
        "\n",
        "print(''.join([str(i) for i in largestnumber(lst)]))"
      ],
      "execution_count": 9,
      "outputs": [
        {
          "output_type": "stream",
          "text": [
            "3\n",
            "23 39 92\n",
            "923923\n"
          ],
          "name": "stdout"
        }
      ]
    }
  ]
}