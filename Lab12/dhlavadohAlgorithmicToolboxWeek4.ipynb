{
  "nbformat": 4,
  "nbformat_minor": 0,
  "metadata": {
    "colab": {
      "name": "dhlavadohAlgorithmicToolboxWeek4",
      "provenance": []
    },
    "kernelspec": {
      "name": "python3",
      "display_name": "Python 3"
    },
    "language_info": {
      "name": "python"
    }
  },
  "cells": [
    {
      "cell_type": "markdown",
      "metadata": {
        "id": "NAbvWlxdG43G"
      },
      "source": [
        "# **4.1 - Binary Search**"
      ]
    },
    {
      "cell_type": "code",
      "metadata": {
        "colab": {
          "base_uri": "https://localhost:8080/"
        },
        "id": "7xL6LB1rFeK5",
        "outputId": "0430bbb8-7685-4a21-b5a9-5cc99514608a"
      },
      "source": [
        "seq = [int(i) for i in input().split()]\n",
        "search_seq = [int(i) for i in input().split()]\n",
        "n = seq[0]\n",
        "seq = seq[1:]\n",
        "\n",
        "def binary_search(seq, elt, r):\n",
        "    l = 0\n",
        "    while l<=r: \n",
        "        m = (l+r)//2\n",
        "        if elt > seq[m]:\n",
        "            l = m + 1\n",
        "        elif elt < seq[m]:\n",
        "            r = m - 1\n",
        "        else:\n",
        "            return m\n",
        "    return -1\n",
        "\n",
        "soln = list()\n",
        "for i in search_seq[1:]:\n",
        "    ans = binary_search(seq, i, n-1)\n",
        "    soln.append(ans)\n",
        "print(' '.join([str(i) for i in soln]))"
      ],
      "execution_count": 1,
      "outputs": [
        {
          "output_type": "stream",
          "text": [
            "5 1 5 8 12 13\n",
            "5 8 1 23 1 11\n",
            "2 0 -1 0 -1\n"
          ],
          "name": "stdout"
        }
      ]
    },
    {
      "cell_type": "markdown",
      "metadata": {
        "id": "PCT11L3hHogL"
      },
      "source": [
        "# **4.2 - Majority Element**"
      ]
    },
    {
      "cell_type": "code",
      "metadata": {
        "colab": {
          "base_uri": "https://localhost:8080/"
        },
        "id": "oKlgcxeLHuLN",
        "outputId": "06deefe0-6230-4a37-b67a-4e792df362b3"
      },
      "source": [
        "n = int(input())\n",
        "seq = [int(i) for i in input().split()]\n",
        "\n",
        "\n",
        "def divide_func(seq, l, r):\n",
        "    if l+1==r:\n",
        "        return seq[l]\n",
        "    elif l+2==r:\n",
        "        return seq[l]\n",
        "    m = (l+r)//2\n",
        "    left = divide_func(seq, l, m)\n",
        "    right = divide_func(seq, m, r)\n",
        "\n",
        "    c1, c2 = 0, 0\n",
        "    for i in seq[l:r]:\n",
        "        if i == left:\n",
        "            c1+=1\n",
        "        elif i == right:\n",
        "            c2+=1\n",
        "    if c1>(r-l)//2 and left != -1:\n",
        "        return left\n",
        "    elif c2>(r-l)//2 and right != -1:\n",
        "        return right\n",
        "    else: \n",
        "        return -1\n",
        "\n",
        "print(int(divide_func(seq, 0, n) != -1))"
      ],
      "execution_count": 2,
      "outputs": [
        {
          "output_type": "stream",
          "text": [
            "5\n",
            "2 3 9 2 2\n",
            "1\n"
          ],
          "name": "stdout"
        }
      ]
    },
    {
      "cell_type": "markdown",
      "metadata": {
        "id": "TKC86nh9H-D5"
      },
      "source": [
        "# **4.3 - Improving Quick Sort**"
      ]
    },
    {
      "cell_type": "code",
      "metadata": {
        "colab": {
          "base_uri": "https://localhost:8080/"
        },
        "id": "PtOeRiGTOP_P",
        "outputId": "59edb5f3-8364-489d-f8ad-5ff8e35df718"
      },
      "source": [
        "import random\n",
        "import time\n",
        "def quicksort3(arr, l, r):\n",
        "    # print('Splitting:', arr[l:r])\n",
        "    if l + 1 >= r:\n",
        "        return\n",
        "\n",
        "    # Pivot selection; Return a random integer N such that l <= N <= r\n",
        "    m = random.randint(l, r-1)\n",
        "    # temp = sorted([(0,arr[0]), ((l+r)//2,arr[(l+r)//2]), (-1,arr[-1])], key = lambda x: x[1])\n",
        "    # m = temp[1][0]\n",
        "    arr[l], arr[m] = arr[m], arr[l]\n",
        "\n",
        "    # partition procedure\n",
        "    m1, m2 = partition3(arr, l, r)\n",
        "\n",
        "    quicksort3(arr, l, m1)\n",
        "    quicksort3(arr, m2+1, r)\n",
        "\n",
        "def partition3(arr, l, r):\n",
        "    m2 = l\n",
        "    for i in range(l+1, r):\n",
        "        if arr[i] <= arr[l]:\n",
        "            arr[m2+1], arr[i] = arr[i], arr[m2+1]\n",
        "            m2 += 1\n",
        "\n",
        "    arr[l], arr[m2] = arr[m2], arr[l]\n",
        "\n",
        "    m1 = l\n",
        "    for i in range(l, m2):\n",
        "        if arr[i] < arr[m2]:\n",
        "            arr[i], arr[m1] = arr[m1], arr[i]\n",
        "            m1 += 1\n",
        "    return m1, m2\n",
        "\n",
        "def create_array(size):\n",
        "    return [random.choice(list(range(10))) for _ in range(size)]\n",
        "\n",
        "# n = int(input())\n",
        "# seq = [int(i) for i in input().split()]\n",
        "# for x in seq:\n",
        "    # print(x, end=' ')\n",
        "\n",
        "t1 = time.time()\n",
        "seq = create_array(100000)\n",
        "quicksort3(seq, 0, 100000)\n",
        "t2 = time.time()\n",
        "print('Time taken:', t2-t1)\n"
      ],
      "execution_count": 11,
      "outputs": [
        {
          "output_type": "stream",
          "text": [
            "Time taken: 0.2676723003387451\n"
          ],
          "name": "stdout"
        }
      ]
    },
    {
      "cell_type": "markdown",
      "metadata": {
        "id": "OmrmhnwIOVVi"
      },
      "source": [
        "# **4.4 - Number of Inversions**"
      ]
    },
    {
      "cell_type": "code",
      "metadata": {
        "colab": {
          "base_uri": "https://localhost:8080/"
        },
        "id": "i2NLbWMTOdiy",
        "outputId": "9634f224-a7ee-4785-92d3-8f2573356fe7"
      },
      "source": [
        "def merge(left, right):\n",
        "    i, j, inversion_counter = 0, 0, 0\n",
        "    final = list()\n",
        "    while i < len(left) and j< len(right):\n",
        "        if left[i] <= right[j]:\n",
        "            final.append(left[i])\n",
        "            i += 1\n",
        "        else:\n",
        "            final.append(right[j])\n",
        "            inversion_counter += len(left) - i\n",
        "            j += 1\n",
        "\n",
        "    final += left[i:]\n",
        "    final += right[j:]\n",
        "        \n",
        "    return final, inversion_counter\n",
        "\n",
        "def mergesort(arr):\n",
        "    global tot_count\n",
        "    if len(arr) <= 1:\n",
        "        return arr\n",
        "    mid = len(arr)//2\n",
        "\n",
        "    left = mergesort(arr[:mid])\n",
        "    right = mergesort(arr[mid:])\n",
        "\n",
        "    sorted_arr, temp = merge(left, right)\n",
        "    tot_count += temp\n",
        "\n",
        "    return sorted_arr\n",
        "\n",
        "tot_count = 0\n",
        "n = int(input())\n",
        "seq = [int(i) for i in input().split()]\n",
        "mergesort(seq)\n",
        "print(tot_count)"
      ],
      "execution_count": 12,
      "outputs": [
        {
          "output_type": "stream",
          "text": [
            "5\n",
            "2 3 9 2 9\n",
            "2\n"
          ],
          "name": "stdout"
        }
      ]
    },
    {
      "cell_type": "markdown",
      "metadata": {
        "id": "iy8J74xXO6yw"
      },
      "source": [
        "# **4.5 - Organizing a Lottery**"
      ]
    },
    {
      "cell_type": "code",
      "metadata": {
        "colab": {
          "base_uri": "https://localhost:8080/"
        },
        "id": "OeiDmJjgPC95",
        "outputId": "d3672be9-0759-4007-ae97-a5f5b9e33e1c"
      },
      "source": [
        "# Inputs\n",
        "master_list = list()\n",
        "s, p = [int(i) for i in input().split()]\n",
        "\n",
        "for i in range(s):\n",
        "    a, b = [int(i) for i in input().split()]\n",
        "    master_list.append((a,'l'))\n",
        "    master_list.append((b,'r'))\n",
        "\n",
        "points = input().split()\n",
        "for i in points:\n",
        "    master_list.append((int(i),'p'))\n",
        "\n",
        "master_list.sort()\n",
        "\n",
        "segment_count = 0\n",
        "point_segment_map = dict()\n",
        "for i in master_list:\n",
        "    if i[1] == 'l': segment_count += 1\n",
        "    elif i[1] == 'r': segment_count -= 1\n",
        "    else:\n",
        "        point_segment_map[i[0]] = segment_count\n",
        "\n",
        "temp = ''\n",
        "for i in points:\n",
        "    temp += str(point_segment_map[int(i)]) + ' '\n",
        "print(temp[:-1])\n",
        "    "
      ],
      "execution_count": 13,
      "outputs": [
        {
          "output_type": "stream",
          "text": [
            "2 3\n",
            "0 5\n",
            "7 10\n",
            "1 6 11\n",
            "1 0 0\n"
          ],
          "name": "stdout"
        }
      ]
    },
    {
      "cell_type": "markdown",
      "metadata": {
        "id": "Ii1-TppHPjb1"
      },
      "source": [
        "# **4.6 - Closest Point**"
      ]
    },
    {
      "cell_type": "code",
      "metadata": {
        "colab": {
          "base_uri": "https://localhost:8080/"
        },
        "id": "QEKOhMkhPxZn",
        "outputId": "4007fdd8-cddd-4c7a-dc81-fced1fc802a2"
      },
      "source": [
        "import math\n",
        "def dist(p1, p2):\n",
        "    return math.sqrt((p1[0] - p2[0]) ** 2 + (p1[1] - p2[1]) ** 2)\n",
        "\n",
        "def closest_split_pair(p_x, p_y, delta, best_pair):\n",
        "    ln_x = len(p_x)  # store length - quicker\n",
        "    mx_x = p_x[ln_x // 2][0]  # select midpoint on x-sorted array\n",
        "\n",
        "    # Create a subarray of points not further than delta from midpoint on x-sorted array\n",
        "    s_y = [x for x in p_y if mx_x - delta <= x[0] <= mx_x + delta]\n",
        "\n",
        "    best = delta  # assign delta value to best\n",
        "    ln_y = len(s_y)  # store length of subarray for quickness\n",
        "    for i in range(ln_y - 1):\n",
        "        for j in range(i+1, min(i + 5, ln_y)):    # We have to check only next 5 points; proof found in literature\n",
        "            p, q = s_y[i], s_y[j]\n",
        "            dst = dist(p, q)\n",
        "            if dst < best:\n",
        "                best_pair = p, q\n",
        "                best = dst\n",
        "    return best_pair[0], best_pair[1], best\n",
        "\n",
        "\n",
        "def brute(ax):\n",
        "    mi = dist(ax[0], ax[1])\n",
        "    p1 = ax[0]\n",
        "    p2 = ax[1]\n",
        "    ln_ax = len(ax)\n",
        "    if ln_ax == 2:\n",
        "        return p1, p2, mi\n",
        "    for i in range(ln_ax-1):\n",
        "        for j in range(i + 1, ln_ax):\n",
        "            if i != 0 and j != 1:\n",
        "                d = dist(ax[i], ax[j])\n",
        "                if d < mi:  # Update min_dist and points\n",
        "                    mi = d\n",
        "                    p1, p2 = ax[i], ax[j]\n",
        "    return p1, p2, mi\n",
        "\n",
        "\n",
        "def closest_pair(ax, ay):\n",
        "    ln_ax = len(ax)  # It's quicker to assign variable\n",
        "    if ln_ax <= 3:\n",
        "        return brute(ax)  # A call to bruteforce comparison\n",
        "    mid = ln_ax // 2  # Division without remainder, need int\n",
        "    Qx = ax[:mid]  # Two-part split\n",
        "    Rx = ax[mid:]\n",
        "\n",
        "    midpoint = ax[mid][0]\n",
        "    Qy = list()\n",
        "    Ry = list()\n",
        "    for x in ay:  # split ay into 2 arrays using midpoint\n",
        "        if x[0] < midpoint:\n",
        "           Qy.append(x)\n",
        "        else:\n",
        "           Ry.append(x)\n",
        "    # Call recursively both arrays after split\n",
        "    (p1, q1, mi1) = closest_pair(Qx, Qy)\n",
        "    (p2, q2, mi2) = closest_pair(Rx, Ry)\n",
        "\n",
        "    # Determine smaller distance between points of 2 arrays\n",
        "    if mi1 <= mi2:\n",
        "        d = mi1\n",
        "        mn = (p1, q1)\n",
        "    else:\n",
        "        d = mi2\n",
        "        mn = (p2, q2)\n",
        "\n",
        "    # Call function to account for points on the boundary\n",
        "    (p3, q3, mi3) = closest_split_pair(ax, ay, d, mn)\n",
        "    # Determine smallest distance for the array\n",
        "    if d <= mi3:\n",
        "        return mn[0], mn[1], d\n",
        "    else:\n",
        "        return p3, q3, mi3\n",
        "\n",
        "\n",
        "def solution(a):\n",
        "    ax = sorted(a, key=lambda x: x[0])  # Presorting x-wise O(nlogn)\n",
        "    ay = sorted(a, key=lambda x: (x[1], x[0]))  # Presorting y-wise then x-wise O(nlogn)\n",
        "    p1, p2, mi = closest_pair(ax, ay)  # Recursive D&C function\n",
        "    return mi\n",
        "\n",
        "\n",
        "# Input\n",
        "points = list()\n",
        "n = int(input())\n",
        "for i in range(n):\n",
        "    points.append([int(i) for i in input().split()])\n",
        "\n",
        "print(solution(points))\n"
      ],
      "execution_count": 14,
      "outputs": [
        {
          "output_type": "stream",
          "text": [
            "2\n",
            "0 0\n",
            "3 4\n",
            "5.0\n"
          ],
          "name": "stdout"
        }
      ]
    },
    {
      "cell_type": "markdown",
      "metadata": {
        "id": "oLhFCImWQ6gu"
      },
      "source": [
        "![imagen.png](data:image/png;base64,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)"
      ]
    }
  ]
}